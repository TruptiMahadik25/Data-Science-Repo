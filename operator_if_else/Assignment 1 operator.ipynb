{
 "cells": [
  {
   "cell_type": "code",
   "execution_count": 1,
   "id": "6dd5f11b",
   "metadata": {},
   "outputs": [
    {
     "name": "stdout",
     "output_type": "stream",
     "text": [
      "enter first no: 5\n",
      "enter second no: 3\n",
      "Equal to= False\n",
      "Not Equal to= True\n",
      "Greater than equal to= True\n",
      "Less than equal to= False\n"
     ]
    }
   ],
   "source": [
    "#Arithmetic Operations \n",
    "\n",
    "num1 = float(input(\"enter first no: \"))\n",
    "num2 = float(input(\"enter second no: \"))\n",
    "\n",
    "equalsto = num1 == num2\n",
    "notequalsto = num1 != num2\n",
    "greaterthan = num1 > num2\n",
    "lessthan = num1 < num2\n",
    "\n",
    "\n",
    "print (\"Equal to=\", equalsto)\n",
    "print (\"Not Equal to=\", notequalsto)\n",
    "print (\"Greater than equal to=\", greaterthan)\n",
    "print (\"Less than equal to=\", lessthan)"
   ]
  },
  {
   "cell_type": "code",
   "execution_count": 2,
   "id": "4c9dc71d",
   "metadata": {},
   "outputs": [
    {
     "name": "stdout",
     "output_type": "stream",
     "text": [
      "Enter First No: 10\n",
      "Enter Second No: 5\n",
      "addition: 15.0\n",
      "Substraction: 5.0\n",
      "multiplication: 50.0\n",
      "division: 2.0\n",
      "reminder: 0.0\n"
     ]
    }
   ],
   "source": [
    "#Comparison Operators\n",
    "\n",
    "num1 = float(input(\"Enter First No: \"))\n",
    "num2 = float(input(\"Enter Second No: \"))\n",
    "\n",
    "add = num1 + num2\n",
    "sub = num1 - num2\n",
    "mul = num1 * num2\n",
    "div = num1 / num2\n",
    "reminder = num1 % num2\n",
    "\n",
    "print (\"addition:\", add)\n",
    "print (\"Substraction:\", sub)\n",
    "print (\"multiplication:\", mul)\n",
    "print (\"division:\", div)\n",
    "print (\"reminder:\", reminder)"
   ]
  },
  {
   "cell_type": "code",
   "execution_count": 7,
   "id": "e4f34c88",
   "metadata": {},
   "outputs": [
    {
     "name": "stdout",
     "output_type": "stream",
     "text": [
      "Enter First value (true/false): (0 and 1)\n",
      "Enter Second value (true/false): (0 or 1)\n",
      "And Result: True\n",
      "Or result: True\n",
      "Not1 result: False\n",
      "Not2 result: False\n"
     ]
    }
   ],
   "source": [
    "#Logical Operators \n",
    "\n",
    "value1 = bool(input(\"Enter First value (true/false): \"))\n",
    "value2 = bool(input(\"Enter Second value (true/false): \"))\n",
    "\n",
    "And = value1 and value2\n",
    "Or = value1 or value2\n",
    "Not1 = not value1\n",
    "Not2 = not value2\n",
    "\n",
    "\n",
    "print (\"And Result:\", And)\n",
    "print (\"Or result:\", Or)\n",
    "print (\"Not1 result:\", Not1)\n",
    "print (\"Not2 result:\", Not2)"
   ]
  },
  {
   "cell_type": "code",
   "execution_count": 13,
   "id": "491822c8",
   "metadata": {},
   "outputs": [],
   "source": [
    "a = 23.4"
   ]
  },
  {
   "cell_type": "code",
   "execution_count": 14,
   "id": "094770d0",
   "metadata": {},
   "outputs": [
    {
     "data": {
      "text/plain": [
       "float"
      ]
     },
     "execution_count": 14,
     "metadata": {},
     "output_type": "execute_result"
    }
   ],
   "source": [
    "type (a)"
   ]
  },
  {
   "cell_type": "code",
   "execution_count": 3,
   "id": "f5e848fc",
   "metadata": {},
   "outputs": [
    {
     "name": "stdout",
     "output_type": "stream",
     "text": [
      "44 33 55\n"
     ]
    }
   ],
   "source": [
    "a=44\n",
    "b=33\n",
    "c=55\n",
    "\n",
    "print (a,b,c)"
   ]
  },
  {
   "cell_type": "code",
   "execution_count": 2,
   "id": "dd31fc65",
   "metadata": {},
   "outputs": [
    {
     "name": "stdout",
     "output_type": "stream",
     "text": [
      "Enter the first integer: 10\n",
      "Enter the second integer: 5\n",
      "Bitwise AND: 0\n",
      "Bitwise OR: 30\n",
      "Bitwise XOR: 30\n",
      "Bitwise NOT of num1: -11\n",
      "Bitwise NOT of num2: -21\n"
     ]
    }
   ],
   "source": [
    "#Bitwise Operations\n",
    "\n",
    "num1 = int(input(\"Enter the first integer: \"))\n",
    "num2 = int(input(\"Enter the second integer: \"))\n",
    "\n",
    "bit_and = num1 & num2\n",
    "bit_or = num1 | num2\n",
    "bit_xor = num1 ^ num2\n",
    "bit_not_num1 = ~num1\n",
    "bit_not_num2 = ~num2\n",
    "\n",
    "print(\"Bitwise AND:\", bitwise_and)\n",
    "print(\"Bitwise OR:\", bitwise_or)\n",
    "print(\"Bitwise XOR:\", bitwise_xor)\n",
    "print(\"Bitwise NOT of num1:\", bitwise_not_num1)\n",
    "print(\"Bitwise NOT of num2:\", bitwise_not_num2)"
   ]
  },
  {
   "cell_type": "code",
   "execution_count": 10,
   "id": "e9e8ded2",
   "metadata": {},
   "outputs": [
    {
     "name": "stdout",
     "output_type": "stream",
     "text": [
      "Enter the first number: 10\n",
      "Enter the second number: 20\n",
      "Enter the third number: 30\n",
      "Result: 608.0\n",
      "div: 2.0\n",
      "mul: 600.0\n",
      "sub: -20.0\n",
      "add: 30.0\n"
     ]
    }
   ],
   "source": [
    "#Precedence of Operators\n",
    "\n",
    "num1 = float(input(\"Enter the first number: \"))\n",
    "num2 = float(input(\"Enter the second number: \"))\n",
    "num3 = float(input(\"Enter the third number: \"))\n",
    "\n",
    "result = num1 + num2 * num3 - num2 / num1\n",
    "result1 = num2 / num1\n",
    "result2 = num3 * num2\n",
    "result3 = num1 - num3\n",
    "result4 = num2 + num1\n",
    "\n",
    "print(\"Result:\", result)\n",
    "print(\"div:\", result1)\n",
    "print(\"mul:\", result2)\n",
    "print(\"sub:\", result3)\n",
    "print(\"add:\", result4)\n"
   ]
  },
  {
   "cell_type": "code",
   "execution_count": 12,
   "id": "c919f70a",
   "metadata": {},
   "outputs": [
    {
     "name": "stdout",
     "output_type": "stream",
     "text": [
      "Enter value of a: 10\n",
      "Enter value of b: 5\n",
      "Result: 0.00075\n"
     ]
    }
   ],
   "source": [
    "# Mixed Operators\n",
    "\n",
    "a = float(input(\"Enter value of a: \"))\n",
    "b = float(input(\"Enter value of b: \"))\n",
    "\n",
    "result = (a + b) * (a - b) / (a ** b)\n",
    "print(\"Result:\", result)"
   ]
  },
  {
   "cell_type": "code",
   "execution_count": 4,
   "id": "7ff3f499",
   "metadata": {},
   "outputs": [
    {
     "name": "stdout",
     "output_type": "stream",
     "text": [
      "Enter first num: 20\n",
      "Enter second num: 10\n",
      "Enter third num: 30\n",
      "The 1st number strictly between d 2nd & 3rd numbers? True\n"
     ]
    }
   ],
   "source": [
    "#Complex Comparison \n",
    "\n",
    "num1 = float(input(\"Enter first num: \"))\n",
    "num2 = float(input(\"Enter second num: \"))\n",
    "num3 = float(input(\"Enter third num: \"))\n",
    "\n",
    "between = num2 < num1 < num3\n",
    "print(\"The 1st number strictly between d 2nd & 3rd numbers?\", between)"
   ]
  },
  {
   "cell_type": "code",
   "execution_count": 16,
   "id": "9c42c6b4",
   "metadata": {},
   "outputs": [
    {
     "name": "stdout",
     "output_type": "stream",
     "text": [
      "Enter number of seconds: 7300\n",
      "Hours: 2\n",
      "Minutes: 121\n",
      "Seconds: 40\n"
     ]
    }
   ],
   "source": [
    "# Convert Seconds  \n",
    "\n",
    "seconds = int(input(\"Enter number of seconds: \"))\n",
    "\n",
    "hrs = seconds // 3600\n",
    "\n",
    "mins = seconds // 60\n",
    "\n",
    "secds = seconds % 60\n",
    "\n",
    "print(\"Hours:\", hrs)\n",
    "print(\"Minutes:\", mins)\n",
    "print(\"Seconds:\", secds)"
   ]
  },
  {
   "cell_type": "code",
   "execution_count": null,
   "id": "82d64f30",
   "metadata": {},
   "outputs": [],
   "source": [
    "\n"
   ]
  },
  {
   "cell_type": "code",
   "execution_count": null,
   "id": "b40bf3f0",
   "metadata": {},
   "outputs": [],
   "source": [
    "# Swap Variables\n",
    "\n",
    "a = (input(\"Enter value of a: \"))\n",
    "b = (input(\"Enter value of b: \"))\n",
    "\n",
    "temp = c\n",
    "a = b\n",
    "b = temp\n",
    "\n",
    "print(\"The value of a after swapping: {}\".format(a))\n",
    "print(\"The value of b after swapping: {}\".format(b))"
   ]
  },
  {
   "cell_type": "code",
   "execution_count": null,
   "id": "2a4c2060",
   "metadata": {},
   "outputs": [],
   "source": []
  },
  {
   "cell_type": "code",
   "execution_count": 21,
   "id": "bb1bef57",
   "metadata": {},
   "outputs": [
    {
     "name": "stdout",
     "output_type": "stream",
     "text": [
      "put distance in kilometers: 10\n",
      "put time in hours: 2\n",
      "Speed: 5.0 km/h\n"
     ]
    }
   ],
   "source": [
    "#Speed Calculator\n",
    "\n",
    "distance = float(input(\"put distance in kilometers: \"))\n",
    "time = float(input(\"put time in hours: \"))\n",
    "\n",
    "speed = distance / time\n",
    "\n",
    "print(\"Speed:\", speed, \"km/h\")"
   ]
  },
  {
   "cell_type": "code",
   "execution_count": null,
   "id": "e01bed69",
   "metadata": {},
   "outputs": [],
   "source": []
  },
  {
   "cell_type": "code",
   "execution_count": 23,
   "id": "c83099cb",
   "metadata": {},
   "outputs": [
    {
     "name": "stdout",
     "output_type": "stream",
     "text": [
      "Enter radius: 15\n",
      "Volume of sphere: 14137.154999999999\n"
     ]
    }
   ],
   "source": [
    "#Volume of a Sphere \n",
    "\n",
    "radius = float(input(\"Enter radius: \"))\n",
    "pi = 3.14159\n",
    "\n",
    "volume = 4/3 * pi * radius ** 3\n",
    "\n",
    "\n",
    "print(\"Volume of sphere:\", volume)"
   ]
  },
  {
   "cell_type": "code",
   "execution_count": null,
   "id": "4ac6644e",
   "metadata": {},
   "outputs": [],
   "source": [
    "\n"
   ]
  },
  {
   "cell_type": "code",
   "execution_count": null,
   "id": "742707fd",
   "metadata": {},
   "outputs": [],
   "source": []
  },
  {
   "cell_type": "code",
   "execution_count": null,
   "id": "6364b903",
   "metadata": {},
   "outputs": [],
   "source": []
  },
  {
   "cell_type": "code",
   "execution_count": null,
   "id": "d1632f8d",
   "metadata": {},
   "outputs": [],
   "source": []
  }
 ],
 "metadata": {
  "kernelspec": {
   "display_name": "Python 3 (ipykernel)",
   "language": "python",
   "name": "python3"
  },
  "language_info": {
   "codemirror_mode": {
    "name": "ipython",
    "version": 3
   },
   "file_extension": ".py",
   "mimetype": "text/x-python",
   "name": "python",
   "nbconvert_exporter": "python",
   "pygments_lexer": "ipython3",
   "version": "3.11.5"
  }
 },
 "nbformat": 4,
 "nbformat_minor": 5
}
