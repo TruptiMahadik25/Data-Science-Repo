{
 "cells": [
  {
   "cell_type": "code",
   "execution_count": 5,
   "id": "1291d4fa",
   "metadata": {},
   "outputs": [
    {
     "name": "stdout",
     "output_type": "stream",
     "text": [
      "Enter value of a: 51\n",
      "Enter value of b: 84\n",
      "b is greater.\n"
     ]
    }
   ],
   "source": [
    "# Comparison \n",
    "\n",
    "a = float(input(\"Enter value of a: \"))\n",
    "\n",
    "b = float(input(\"Enter value of b: \"))\n",
    "\n",
    "if a > b:\n",
    "    \n",
    "    print(\"a is greater.\")\n",
    "    \n",
    "else:\n",
    "    \n",
    "    print(\"b is greater.\")\n"
   ]
  },
  {
   "cell_type": "code",
   "execution_count": 7,
   "id": "c58f27f9",
   "metadata": {},
   "outputs": [
    {
     "name": "stdout",
     "output_type": "stream",
     "text": [
      "Enter a value: 54\n",
      "The number is even.\n"
     ]
    }
   ],
   "source": [
    "#Even or Odd Number \n",
    "\n",
    "\n",
    "x = int(input(\"Enter a value: \"))\n",
    "\n",
    "if x % 2 == 0:\n",
    "\n",
    "    print(\"The number is even.\")\n",
    "    \n",
    "else:\n",
    "    \n",
    "    print(\"The number is odd.\")\n"
   ]
  },
  {
   "cell_type": "code",
   "execution_count": 11,
   "id": "8dc9a871",
   "metadata": {},
   "outputs": [
    {
     "name": "stdout",
     "output_type": "stream",
     "text": [
      "Enter number: -8\n",
      "Number is -ve.\n"
     ]
    }
   ],
   "source": [
    "#Positive or Negative Number \n",
    "\n",
    "number = float(input(\"Enter number: \"))\n",
    "\n",
    "if number > 0:\n",
    "    \n",
    "    print(\"Number is +ve.\")\n",
    "    \n",
    "elif number < 0:\n",
    "    \n",
    "    print(\"Number is -ve.\")\n",
    "    \n",
    "else:\n",
    "    \n",
    "    print(\"Number is zero.\")\n"
   ]
  },
  {
   "cell_type": "code",
   "execution_count": 14,
   "id": "dfcbf65b",
   "metadata": {},
   "outputs": [
    {
     "name": "stdout",
     "output_type": "stream",
     "text": [
      "Enter password: python123\n",
      "Access granted.\n"
     ]
    }
   ],
   "source": [
    "# Password Checker\n",
    "\n",
    "password = input(\"Enter password: \")\n",
    "\n",
    "if password == \"python123\":\n",
    "    \n",
    "    print(\"Access granted.\")\n",
    "    \n",
    "else:\n",
    "    \n",
    "    print(\"Incorrect password.\")\n"
   ]
  },
  {
   "cell_type": "code",
   "execution_count": 16,
   "id": "a879fd79",
   "metadata": {},
   "outputs": [
    {
     "name": "stdout",
     "output_type": "stream",
     "text": [
      "Enter age: 17\n",
      "U R not an adult.\n"
     ]
    }
   ],
   "source": [
    "#Age Checker \n",
    "\n",
    "\n",
    "age = int(input(\"Enter age: \"))\n",
    "\n",
    "if age >= 18:\n",
    "    \n",
    "    print(\"U R an adult.\")\n",
    "    \n",
    "else:\n",
    "    \n",
    "    print(\"U R not an adult.\")\n"
   ]
  },
  {
   "cell_type": "code",
   "execution_count": 21,
   "id": "feff114e",
   "metadata": {},
   "outputs": [
    {
     "name": "stdout",
     "output_type": "stream",
     "text": [
      "Enter age: 29\n",
      "Yu R eligible for vote.\n"
     ]
    }
   ],
   "source": [
    "# Voting Eligibility \n",
    "\n",
    "age = int(input(\"Enter age: \"))\n",
    "\n",
    "if age >= 18:\n",
    "    \n",
    "    print(\"Yu R eligible for vote.\")\n",
    "    \n",
    "else:\n",
    "    print(\"Yu R not eligible for vote.\")\n"
   ]
  },
  {
   "cell_type": "code",
   "execution_count": 24,
   "id": "45b9c72b",
   "metadata": {},
   "outputs": [
    {
     "name": "stdout",
     "output_type": "stream",
     "text": [
      "Enter temperature in Celsius: 36\n",
      " hot day \n"
     ]
    }
   ],
   "source": [
    "# Temperature Conversion \n",
    "\n",
    "temp = float(input(\"Enter temperature in Celsius: \"))\n",
    "\n",
    "if temp > 30:\n",
    "    \n",
    "    print(\" hot day \")\n",
    "    \n",
    "else:\n",
    "    \n",
    "    print(\" not hot day \")\n"
   ]
  },
  {
   "cell_type": "code",
   "execution_count": null,
   "id": "9089e98d",
   "metadata": {},
   "outputs": [],
   "source": [
    "\n",
    "\n",
    "\n",
    "    "
   ]
  },
  {
   "cell_type": "code",
   "execution_count": 32,
   "id": "c73f092f",
   "metadata": {},
   "outputs": [
    {
     "name": "stdout",
     "output_type": "stream",
     "text": [
      "Enter Score: 74\n",
      "C\n"
     ]
    }
   ],
   "source": [
    "# Grade Classification \n",
    "\n",
    "\n",
    "score = int(input(\"Enter Score: \"))\n",
    "\n",
    "if score >= 90:\n",
    "    print(\"A\")\n",
    "    \n",
    "elif score >= 80:\n",
    "    print(\"B\")\n",
    "    \n",
    "elif score >= 70:\n",
    "    print(\"C\")\n",
    "    \n",
    "elif score >= 60:\n",
    "    print(\"D\")\n",
    "    \n",
    "else:\n",
    "    print(\"Fail\")\n"
   ]
  },
  {
   "cell_type": "code",
   "execution_count": null,
   "id": "c734b4fc",
   "metadata": {},
   "outputs": [],
   "source": []
  },
  {
   "cell_type": "code",
   "execution_count": 36,
   "id": "617acf35",
   "metadata": {},
   "outputs": [
    {
     "name": "stdout",
     "output_type": "stream",
     "text": [
      "Enter age: 28\n",
      "Adult\n"
     ]
    }
   ],
   "source": [
    "\n",
    "\n",
    "#Age Group Classification\n",
    "\n",
    "\n",
    "age = int(input(\"Enter age: \"))\n",
    "\n",
    "if age < 13: \n",
    "    print(\"Child\")\n",
    "    \n",
    "elif age >= 13 and age <= 19:\n",
    "    print(\"Teenager\")\n",
    "    \n",
    "else:\n",
    "    print(\"Adult\")\n",
    "    \n",
    "    \n"
   ]
  },
  {
   "cell_type": "code",
   "execution_count": 40,
   "id": "3cb448d0",
   "metadata": {},
   "outputs": [
    {
     "name": "stdout",
     "output_type": "stream",
     "text": [
      "Enter password: hg\n",
      "Weak\n"
     ]
    }
   ],
   "source": [
    "# Password Strength Checker \n",
    "\n",
    "passw = input(\"Enter password: \")\n",
    "\n",
    "if len(passw) < 8:\n",
    "    \n",
    "    print(\"Weak\")\n",
    "    \n",
    "else:\n",
    "    \n",
    "    print(\"Strong\")\n",
    "    \n",
    "    \n",
    "    "
   ]
  },
  {
   "cell_type": "code",
   "execution_count": 43,
   "id": "7831cf3a",
   "metadata": {},
   "outputs": [
    {
     "name": "stdout",
     "output_type": "stream",
     "text": [
      "Enter age: 25\n",
      "You are allowed to enter.\n"
     ]
    }
   ],
   "source": [
    "# Age Verification \n",
    "\n",
    "\n",
    "age = int(input(\"Enter age: \"))\n",
    "\n",
    "if age >= 21:\n",
    "    \n",
    "    print(\"You are allowed to enter.\")\n",
    "    \n",
    "else:\n",
    "    \n",
    "    print(\"ur not allowed\")\n",
    "    \n",
    "    \n",
    "    \n"
   ]
  },
  {
   "cell_type": "code",
   "execution_count": 45,
   "id": "711de78a",
   "metadata": {},
   "outputs": [
    {
     "name": "stdout",
     "output_type": "stream",
     "text": [
      "Enter 1st number: 45\n",
      "Enter 2nd number: 45\n",
      "Numbers R equal.\n"
     ]
    }
   ],
   "source": [
    "# Number Comparison (Improved) \n",
    "\n",
    "num1 = float(input(\"Enter 1st number: \"))\n",
    "\n",
    "num2 = float(input(\"Enter 2nd number: \"))\n",
    "\n",
    "if num1 == num2:\n",
    "\n",
    "    print(\"Numbers R equal.\")\n",
    "    \n",
    "else:\n",
    "    \n",
    "    print(\"Numbers R not equal.\")\n",
    "    \n",
    "    \n"
   ]
  },
  {
   "cell_type": "code",
   "execution_count": 55,
   "id": "fa3461ed",
   "metadata": {},
   "outputs": [
    {
     "name": "stdout",
     "output_type": "stream",
     "text": [
      "Enter original price: 22\n",
      "price after discount is $19.80\n"
     ]
    }
   ],
   "source": [
    "# Discount Calculator\n",
    "\n",
    "ogp = float(input(\"Enter original price: \"))\n",
    "\n",
    "disp = ogp * 0.9  \n",
    "\n",
    "print(f\"price after discount is ${disp:.2f}\")\n",
    "\n",
    "\n"
   ]
  },
  {
   "cell_type": "code",
   "execution_count": 50,
   "id": "8377544d",
   "metadata": {},
   "outputs": [
    {
     "name": "stdout",
     "output_type": "stream",
     "text": [
      "Enter weight in kg: 46\n",
      "Enter height in meters: 2.5\n",
      "Ur BMI is 7.36\n"
     ]
    }
   ],
   "source": [
    "#BMI Calculator \n",
    "\n",
    "weight = float(input(\"Enter weight in kg: \"))\n",
    "\n",
    "height = float(input(\"Enter height in meters: \"))\n",
    "\n",
    "bmi = weight / (height ** 2)\n",
    "\n",
    "print(f\"Ur BMI is {bmi:.2f}\")\n"
   ]
  },
  {
   "cell_type": "code",
   "execution_count": 56,
   "id": "14f80f39",
   "metadata": {},
   "outputs": [
    {
     "name": "stdout",
     "output_type": "stream",
     "text": [
      "Enter age: 22\n",
      "The ticket price is $12.\n"
     ]
    }
   ],
   "source": [
    "#Ticket Price Calculator \n",
    "\n",
    "age = int(input(\"Enter age: \"))\n",
    "\n",
    "if age <= 12:\n",
    "    ticket_rupees = 5\n",
    "    \n",
    "elif age <= 18:\n",
    "    ticket_rupees = 8\n",
    "    \n",
    "else:\n",
    "    \n",
    "    ticket_rupees = 12\n",
    "    \n",
    "print(f\"The ticket price is ${ticket_rupees}.\")\n"
   ]
  },
  {
   "cell_type": "code",
   "execution_count": 60,
   "id": "16dd5d16",
   "metadata": {},
   "outputs": [
    {
     "name": "stdout",
     "output_type": "stream",
     "text": [
      "Enter traffic light color: green\n",
      "Go\n"
     ]
    }
   ],
   "source": [
    "\n",
    "# Traffic Light Simulator \n",
    "\n",
    "color = input(\"Enter traffic light color: \")\n",
    "\n",
    "if color == \"red\":\n",
    "    print(\"Stop\")\n",
    "    \n",
    "elif color == \"yellow\":\n",
    "    print(\"Slow down\")\n",
    "    \n",
    "elif color == \"green\":\n",
    "    print(\"Go\")\n",
    "    \n",
    "else:\n",
    "    \n",
    "    print(\"Invalid color entered.\")\n"
   ]
  },
  {
   "cell_type": "code",
   "execution_count": 63,
   "id": "b4696941",
   "metadata": {},
   "outputs": [
    {
     "name": "stdout",
     "output_type": "stream",
     "text": [
      "Enter x value: 4\n",
      "Enter an operator (+, -, *, /): +\n",
      "Enter y value: 16\n",
      "4.0 + 16.0 = 20.0\n"
     ]
    }
   ],
   "source": [
    "# Simple Calculator \n",
    "\n",
    "\n",
    "x = float(input(\"Enter x value: \"))\n",
    "\n",
    "operator = input(\"Enter an operator (+, -, *, /): \")\n",
    "\n",
    "y = float(input(\"Enter y value: \"))\n",
    "\n",
    "if operator == \"+\":\n",
    "    result = x + y\n",
    "    \n",
    "elif operator == \"-\":\n",
    "    result = x - y\n",
    "    \n",
    "elif operator == \"*\":\n",
    "    result = x * y\n",
    "    \n",
    "elif operator == \"/\":\n",
    "    if y == 0:\n",
    "        \n",
    "        result = \"Division by zero is not allowed.\"\n",
    "        \n",
    "    else:\n",
    "        \n",
    "        result = x / y\n",
    "        \n",
    "else:\n",
    "    \n",
    "    result = \"Invalid operator\"\n",
    "    \n",
    "print(f\"{x} {operator} {y} = {result}\")\n"
   ]
  },
  {
   "cell_type": "code",
   "execution_count": 67,
   "id": "a1e55f28",
   "metadata": {},
   "outputs": [
    {
     "name": "stdout",
     "output_type": "stream",
     "text": [
      "Enter score: 85\n",
      "Good\n"
     ]
    }
   ],
   "source": [
    "# Exam Result \n",
    "\n",
    "score = float(input(\"Enter score: \"))\n",
    "\n",
    "if score >= 90:\n",
    "    print(\"Excellent\")\n",
    "    \n",
    "elif score >= 80:\n",
    "    print(\"Good\")\n",
    "    \n",
    "elif score >= 70:\n",
    "    print(\"Satisfactory\")\n",
    "    \n",
    "elif 0 <= score < 70:    \n",
    "    print(\"Needs Improvement\")\n",
    "    \n",
    "else:\n",
    "    \n",
    "    print(\"Invalid score .\")"
   ]
  },
  {
   "cell_type": "code",
   "execution_count": null,
   "id": "1baedbb7",
   "metadata": {},
   "outputs": [],
   "source": []
  }
 ],
 "metadata": {
  "kernelspec": {
   "display_name": "Python 3 (ipykernel)",
   "language": "python",
   "name": "python3"
  },
  "language_info": {
   "codemirror_mode": {
    "name": "ipython",
    "version": 3
   },
   "file_extension": ".py",
   "mimetype": "text/x-python",
   "name": "python",
   "nbconvert_exporter": "python",
   "pygments_lexer": "ipython3",
   "version": "3.11.5"
  }
 },
 "nbformat": 4,
 "nbformat_minor": 5
}
