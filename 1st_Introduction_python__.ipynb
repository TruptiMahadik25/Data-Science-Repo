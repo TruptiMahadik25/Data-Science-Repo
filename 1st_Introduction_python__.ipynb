{
 "cells": [
  {
   "cell_type": "markdown",
   "metadata": {},
   "source": [
    "# Introduction to Python"
   ]
  },
  {
   "cell_type": "markdown",
   "metadata": {},
   "source": [
    "# Why Programming"
   ]
  },
  {
   "cell_type": "markdown",
   "metadata": {},
   "source": [
    "Sure! Programming serves as a communication tool between humans and machines, allowing us to give specific instructions to computers so they can perform tasks and solve problems on our behalf."
   ]
  },
  {
   "cell_type": "markdown",
   "metadata": {},
   "source": [
    "\n",
    "\n",
    "- Programming serves as a communication tool between humans and machines.\n",
    "- An example of this is a basic calculator app.\n",
    "- Users input mathematical expressions like \"2 + 3\" using the app's interface.\n",
    "- The programming behind the app interprets the input and communicates with the machine (computer or phone's processor).\n",
    "- The machine performs the addition operation and displays the result, such as \"5\".\n",
    "- Through programming, users can communicate with the machine and obtain the desired output."
   ]
  },
  {
   "cell_type": "markdown",
   "metadata": {},
   "source": [
    "A programming language is a set of rules and instructions used to write computer programs. It provides a way for humans to communicate with computers and give them specific tasks and behaviors to perform."
   ]
  },
  {
   "cell_type": "code",
   "execution_count": null,
   "metadata": {},
   "outputs": [],
   "source": []
  },
  {
   "cell_type": "code",
   "execution_count": null,
   "metadata": {},
   "outputs": [],
   "source": []
  },
  {
   "cell_type": "code",
   "execution_count": null,
   "metadata": {},
   "outputs": [],
   "source": [
    "#Example \n",
    "#Calculating sum "
   ]
  },
  {
   "cell_type": "markdown",
   "metadata": {},
   "source": [
    "Why Python for Data Analytics,Machine Learning,Data Science, AI\n",
    "\n",
    "\n",
    "\n",
    "1. **Ease of Learning and Use**: Python's simple syntax is beginner-friendly.\n",
    "\n",
    "2. **Vast Ecosystem of Libraries**: Python offers powerful data science libraries like NumPy, Pandas, and Matplotlib.\n",
    "\n",
    "3. **Community and Support**: Active Python community provides ample resources and support.\n",
    "\n",
    "4. **Integration and Flexibility**: Python easily integrates with other languages and tools.\n",
    "\n",
    "5. **Versatility**: Python serves various purposes beyond data science.\n",
    "\n",
    "6. **Data Science-Focused Platforms**: Python-centric tools like Jupyter and Anaconda enhance data science work.\n",
    "\n",
    "7. **Machine Learning and AI Libraries**: Python excels in machine learning with libraries like Scikit-learn and TensorFlow.\n",
    "\n",
    "Overall, Python's simplicity makes it an accessible and powerful programming language suitable for a wide range of applications and skill levels."
   ]
  },
  {
   "cell_type": "code",
   "execution_count": null,
   "metadata": {},
   "outputs": [],
   "source": []
  },
  {
   "cell_type": "code",
   "execution_count": null,
   "metadata": {},
   "outputs": [],
   "source": []
  },
  {
   "cell_type": "code",
   "execution_count": null,
   "metadata": {},
   "outputs": [],
   "source": []
  },
  {
   "cell_type": "code",
   "execution_count": null,
   "metadata": {},
   "outputs": [],
   "source": []
  },
  {
   "cell_type": "code",
   "execution_count": null,
   "metadata": {},
   "outputs": [],
   "source": []
  },
  {
   "cell_type": "markdown",
   "metadata": {},
   "source": [
    "# Jupyter notebook differnt modes"
   ]
  },
  {
   "cell_type": "code",
   "execution_count": null,
   "metadata": {},
   "outputs": [],
   "source": []
  },
  {
   "cell_type": "code",
   "execution_count": null,
   "metadata": {},
   "outputs": [],
   "source": [
    "print(\"hello world\")"
   ]
  },
  {
   "cell_type": "code",
   "execution_count": null,
   "metadata": {},
   "outputs": [],
   "source": []
  },
  {
   "cell_type": "code",
   "execution_count": null,
   "metadata": {},
   "outputs": [],
   "source": []
  },
  {
   "cell_type": "markdown",
   "metadata": {},
   "source": [
    "Jupyter Notebooks support different modes that allow you to interact with and manipulate the content. The two primary modes are:\n",
    "\n",
    "1. **Command Mode:**\n",
    "   - In Command Mode, you can perform operations on cells at a higher level, such as creating, deleting, and navigating between cells.\n",
    "   - You can enter Command Mode by pressing `Esc` key.\n",
    "   - In Command Mode, the selected cell is surrounded by a blue border.\n",
    "\n",
    "   Some useful keyboard shortcuts in Command Mode:\n",
    "   - `A`: Insert a new cell above the current cell.\n",
    "   - `B`: Insert a new cell below the current cell.\n",
    "   - `M`: Change the cell type to Markdown.\n",
    "   - `Y`: Change the cell type to Code.\n",
    "   - `D + D`: Delete the selected cell.\n",
    "   - `Up` and `Down` arrows: Navigate between cells.\n",
    "\n",
    "2. **Edit Mode:**\n",
    "   - In Edit Mode, you can edit the content of a cell, like writing code in a code cell or editing text in a Markdown cell.\n",
    "   - You can enter Edit Mode by pressing `Enter` key.\n",
    "   - In Edit Mode, the selected cell is surrounded by a green border.\n",
    "\n",
    "   Some useful keyboard shortcuts in Edit Mode:\n",
    "   - `Ctrl + Enter`: Run the current cell.\n",
    "   - `Shift + Enter`: Run the current cell and move to the next cell.\n",
    "   - `Esc`: Switch to Command Mode.\n",
    "   - `Tab`: Code completion or indentation.\n",
    "   - `Shift + Tab`: Tooltip with function/method documentation.\n",
    "\n",
    "These two modes allow you to navigate, create, and edit content efficiently in Jupyter Notebooks. Understanding and using the keyboard shortcuts associated with each mode can significantly enhance your productivity when working with Jupyter Notebooks."
   ]
  },
  {
   "cell_type": "code",
   "execution_count": null,
   "metadata": {},
   "outputs": [],
   "source": [
    "a = 12253211"
   ]
  },
  {
   "cell_type": "code",
   "execution_count": null,
   "metadata": {},
   "outputs": [],
   "source": [
    "type(a)"
   ]
  },
  {
   "cell_type": "code",
   "execution_count": null,
   "metadata": {},
   "outputs": [],
   "source": []
  },
  {
   "cell_type": "code",
   "execution_count": null,
   "metadata": {},
   "outputs": [],
   "source": []
  },
  {
   "cell_type": "code",
   "execution_count": null,
   "metadata": {},
   "outputs": [],
   "source": []
  },
  {
   "cell_type": "code",
   "execution_count": null,
   "metadata": {},
   "outputs": [],
   "source": []
  },
  {
   "cell_type": "markdown",
   "metadata": {
    "id": "BzuI6KObHLBH"
   },
   "source": [
    "# Data Types"
   ]
  },
  {
   "cell_type": "code",
   "execution_count": null,
   "metadata": {},
   "outputs": [],
   "source": [
    "#example \n",
    "\"\"\"what all data we see in the world \n",
    "lets take an exapmle of mobile phone what all data we have \n",
    "1)video  (gallery)\n",
    "2)audio  (some other mp3 folder)\n",
    "3)images (gallery since similar to video)\n",
    "4)text   (Some Document) \n",
    "5)pdf    (some document)\n",
    "\n",
    "we have differnt space for differnt data\"\"\""
   ]
  },
  {
   "cell_type": "markdown",
   "metadata": {},
   "source": [
    "\n",
    "\n",
    "```1 `int`: Represents integer values ```\n",
    "   - Syntax: `x = 10````\n",
    "   \n",
    "\n",
    "2. `float`: Represents floating-point (decimal) values.\n",
    "   - Syntax: `x = 3.14`\n",
    "\n",
    "3. `str`: Represents text or string values.\n",
    "   - Syntax: `x = \"Hello\"`\n",
    "\n",
    "4. `bool`: Represents boolean values (`True` or `False`).\n",
    "   - Syntax: `x = True`\n",
    "\n",
    "5. `list`: Represents an ordered collection of values, mutable.\n",
    "   - Syntax: `x = [1, 2, 3]`\n",
    "\n",
    "6. `tuple`: Represents an ordered collection of values, immutable.\n",
    "   - Syntax: `x = (1, 2, 3)`\n",
    "\n",
    "7. `range`: Represents a sequence of numbers within a specified range.\n",
    "   - Syntax: `x = range(1, 6)`\n",
    "\n",
    "8. `dict`: Represents a collection of key-value pairs.\n",
    "   - Syntax: `x = {'name': 'Alice', 'age': 30}`\n",
    "\n",
    "9. `set`: Represents an unordered collection of unique values.\n",
    "   - Syntax: `x = {1, 2, 3}`\n",
    "\n",
    "10. `frozenset`: Represents an immutable version of a set.\n",
    "    - Syntax: `x = frozenset({1, 2, 3})`\n",
    "\n",
    "11. `bytes`: Represents an immutable sequence of bytes.\n",
    "    - Syntax: `x = b'hello'`\n",
    "\n",
    "12. `bytearray`: Represents a mutable sequence of bytes.\n",
    "    - Syntax: `x = bytearray(b'hello')`\n",
    "\n",
    "13. `memoryview`: Provides access to the internal buffer of an object.\n",
    "    - Syntax: `x = memoryview(b'hello')`\n",
    "\n",
    "14. `None`: Represents the absence of a value or a null value.\n",
    "    - Syntax: `x = None`"
   ]
  },
  {
   "cell_type": "markdown",
   "metadata": {},
   "source": []
  },
  {
   "cell_type": "code",
   "execution_count": null,
   "metadata": {},
   "outputs": [],
   "source": [
    "a = 25"
   ]
  },
  {
   "cell_type": "code",
   "execution_count": null,
   "metadata": {},
   "outputs": [],
   "source": [
    "type(a)"
   ]
  },
  {
   "cell_type": "code",
   "execution_count": null,
   "metadata": {},
   "outputs": [],
   "source": [
    "b = 52.25"
   ]
  },
  {
   "cell_type": "code",
   "execution_count": null,
   "metadata": {},
   "outputs": [],
   "source": [
    "type(b)"
   ]
  },
  {
   "cell_type": "code",
   "execution_count": null,
   "metadata": {},
   "outputs": [],
   "source": [
    "c = [1,2,3,4]"
   ]
  },
  {
   "cell_type": "code",
   "execution_count": null,
   "metadata": {},
   "outputs": [],
   "source": [
    "type(c)"
   ]
  },
  {
   "cell_type": "code",
   "execution_count": null,
   "metadata": {},
   "outputs": [],
   "source": []
  },
  {
   "cell_type": "markdown",
   "metadata": {
    "id": "kYD63MF7HOyJ"
   },
   "source": [
    "# Variables"
   ]
  },
  {
   "cell_type": "markdown",
   "metadata": {},
   "source": [
    "A variable is a named storage location in a program's memory that holds a value or data. It acts as a placeholder or container for storing data that can be manipulated and used throughout a program. In programming, variables are fundamental components that allow you to work with and manipulate data dynamically.\n",
    "\n",
    "Here are some key characteristics of variables:\n",
    "\n",
    "1. **Name:** A variable has a name, which is used to reference and access the stored data.\n",
    "\n",
    "2. **Value:** The value stored in a variable can be of different data types, such as numbers, strings, or more complex objects.\n",
    "\n",
    "3. **Memory Location:** Variables are associated with specific memory locations in the computer's memory, where their values are stored.\n",
    "\n",
    "4. **Assignment:** You assign a value to a variable using an assignment statement. For example, `x = 5` assigns the value 5 to the variable named \"x.\"\n",
    "\n",
    "5. **Mutable:** Depending on the programming language and data type, variables can be mutable (modifiable) or immutable (cannot be changed after creation).\n",
    "\n",
    "6. **Scope:** Variables have a scope, which defines where they are accessible and usable within the program.\n",
    "\n",
    "Here's a simple example in Python:\n",
    "\n",
    "```python\n",
    "# Variable assignment\n",
    "x = 10\n",
    "name = \"Alice\"\n",
    "pi = 3.14159\n",
    "\n",
    "# Using variables in expressions\n",
    "result = x * pi\n",
    "greeting = \"Hello, \" + name\n",
    "\n",
    "# Displaying the values of variables\n",
    "print(result)     # Output: 31.4159\n",
    "print(greeting)   # Output: Hello, Alice\n",
    "```\n",
    "\n",
    "In this example, `x`, `name`, and `pi` are variables that store different types of values. They are used in expressions to perform calculations and generate output. Variables are essential for writing dynamic and reusable code in programming."
   ]
  },
  {
   "cell_type": "markdown",
   "metadata": {},
   "source": [
    "### Rules for declaring a variable "
   ]
  },
  {
   "cell_type": "markdown",
   "metadata": {},
   "source": [
    "In Python, there are a few rules to follow when declaring variables:\n",
    "\n",
    "1. Variable names must start with a letter (a-z, A-Z) or an underscore (_). They cannot begin with a number or any other special character.\n",
    "2. After the initial character, variable names can contain letters, numbers, and underscores. They are case-sensitive, so \"myVariable\" and \"myvariable\" would be considered different variables.\n",
    "3. Python keywords (reserved words with special meanings in the language, such as \"if,\" \"while,\" \"for,\" etc.) cannot be used as variable names.\n",
    "4. Variable names should be descriptive and meaningful, providing some indication of the purpose or content of the variable.\n",
    "5. Avoid using built-in function or module names as variable names to prevent conflicts and confusion.\n",
    "6. Underscores can be used to separate multiple words in a variable name, such as \"my_variable\" or \"total_count.\"\n",
    "7. It is generally recommended to use lowercase letters for variable names, as this is a common convention in Python (e.g., \"count\" instead of \"Count\").\n",
    "8. Be consistent with your naming style within your code or project to improve readability and maintainability.\n",
    "\n",
    "Here are some examples of valid variable names in Python:\n",
    "- age\n",
    "- name\n",
    "- _count\n",
    "- total_count\n",
    "- myVariable\n",
    "\n",
    "Remember that following these rules and maintaining good naming conventions can make your code more readable and easier to understand."
   ]
  },
  {
   "cell_type": "code",
   "execution_count": null,
   "metadata": {},
   "outputs": [],
   "source": []
  },
  {
   "cell_type": "code",
   "execution_count": null,
   "metadata": {},
   "outputs": [],
   "source": []
  },
  {
   "cell_type": "code",
   "execution_count": null,
   "metadata": {},
   "outputs": [],
   "source": []
  },
  {
   "cell_type": "code",
   "execution_count": null,
   "metadata": {},
   "outputs": [],
   "source": []
  },
  {
   "cell_type": "code",
   "execution_count": null,
   "metadata": {},
   "outputs": [],
   "source": [
    "a = 10"
   ]
  },
  {
   "cell_type": "code",
   "execution_count": null,
   "metadata": {},
   "outputs": [],
   "source": [
    "_a = 10"
   ]
  },
  {
   "cell_type": "code",
   "execution_count": null,
   "metadata": {},
   "outputs": [],
   "source": [
    "12 = 10"
   ]
  },
  {
   "cell_type": "code",
   "execution_count": null,
   "metadata": {},
   "outputs": [],
   "source": [
    "A12 = 10"
   ]
  },
  {
   "cell_type": "code",
   "execution_count": null,
   "metadata": {},
   "outputs": [],
   "source": [
    "myvaraible = 10"
   ]
  },
  {
   "cell_type": "code",
   "execution_count": null,
   "metadata": {},
   "outputs": [],
   "source": [
    "myvaraible"
   ]
  },
  {
   "cell_type": "code",
   "execution_count": null,
   "metadata": {},
   "outputs": [],
   "source": [
    "Myvaraible = 20"
   ]
  },
  {
   "cell_type": "code",
   "execution_count": null,
   "metadata": {},
   "outputs": [],
   "source": [
    "Myvaraible"
   ]
  },
  {
   "cell_type": "code",
   "execution_count": null,
   "metadata": {},
   "outputs": [],
   "source": [
    "type = 122"
   ]
  },
  {
   "cell_type": "code",
   "execution_count": null,
   "metadata": {},
   "outputs": [],
   "source": []
  },
  {
   "cell_type": "code",
   "execution_count": null,
   "metadata": {},
   "outputs": [],
   "source": [
    "my score = 10"
   ]
  },
  {
   "cell_type": "code",
   "execution_count": null,
   "metadata": {},
   "outputs": [],
   "source": [
    "my_score = 10"
   ]
  },
  {
   "cell_type": "code",
   "execution_count": null,
   "metadata": {},
   "outputs": [],
   "source": []
  },
  {
   "cell_type": "code",
   "execution_count": null,
   "metadata": {},
   "outputs": [],
   "source": []
  },
  {
   "cell_type": "code",
   "execution_count": null,
   "metadata": {},
   "outputs": [],
   "source": [
    "var =222"
   ]
  },
  {
   "cell_type": "code",
   "execution_count": null,
   "metadata": {},
   "outputs": [],
   "source": [
    "var"
   ]
  },
  {
   "cell_type": "code",
   "execution_count": null,
   "metadata": {},
   "outputs": [],
   "source": [
    "var"
   ]
  },
  {
   "cell_type": "code",
   "execution_count": null,
   "metadata": {},
   "outputs": [],
   "source": [
    "type(var)"
   ]
  },
  {
   "cell_type": "code",
   "execution_count": null,
   "metadata": {},
   "outputs": [],
   "source": []
  },
  {
   "cell_type": "code",
   "execution_count": null,
   "metadata": {},
   "outputs": [],
   "source": []
  },
  {
   "cell_type": "code",
   "execution_count": null,
   "metadata": {},
   "outputs": [],
   "source": []
  },
  {
   "cell_type": "code",
   "execution_count": null,
   "metadata": {},
   "outputs": [],
   "source": [
    "_count = 10"
   ]
  },
  {
   "cell_type": "code",
   "execution_count": null,
   "metadata": {},
   "outputs": [],
   "source": [
    "_count"
   ]
  },
  {
   "cell_type": "code",
   "execution_count": null,
   "metadata": {},
   "outputs": [],
   "source": [
    "numpy pandas matplotlib"
   ]
  },
  {
   "cell_type": "code",
   "execution_count": null,
   "metadata": {},
   "outputs": [],
   "source": [
    "john_contact = 9742586457"
   ]
  },
  {
   "cell_type": "code",
   "execution_count": null,
   "metadata": {},
   "outputs": [],
   "source": [
    "a = 10"
   ]
  },
  {
   "cell_type": "code",
   "execution_count": null,
   "metadata": {},
   "outputs": [],
   "source": [
    "a"
   ]
  },
  {
   "cell_type": "code",
   "execution_count": null,
   "metadata": {},
   "outputs": [],
   "source": [
    "a = 10"
   ]
  },
  {
   "cell_type": "code",
   "execution_count": null,
   "metadata": {},
   "outputs": [],
   "source": [
    "a"
   ]
  },
  {
   "cell_type": "code",
   "execution_count": null,
   "metadata": {},
   "outputs": [],
   "source": []
  },
  {
   "cell_type": "code",
   "execution_count": null,
   "metadata": {},
   "outputs": [],
   "source": []
  },
  {
   "cell_type": "code",
   "execution_count": null,
   "metadata": {},
   "outputs": [],
   "source": [
    "A = 20"
   ]
  },
  {
   "cell_type": "code",
   "execution_count": null,
   "metadata": {},
   "outputs": [],
   "source": [
    "A"
   ]
  },
  {
   "cell_type": "code",
   "execution_count": null,
   "metadata": {},
   "outputs": [],
   "source": [
    "abc_if = 20 "
   ]
  },
  {
   "cell_type": "code",
   "execution_count": null,
   "metadata": {},
   "outputs": [],
   "source": [
    "# Valid variable names\n",
    "name123 = \"Alice\"\n",
    "_age = 25\n",
    "my_var = 42\n",
    "user_name_123 = \"John\""
   ]
  },
  {
   "cell_type": "code",
   "execution_count": null,
   "metadata": {},
   "outputs": [],
   "source": [
    "123 = \"hello\""
   ]
  },
  {
   "cell_type": "code",
   "execution_count": null,
   "metadata": {},
   "outputs": [],
   "source": [
    "@#$%^&*()"
   ]
  },
  {
   "cell_type": "code",
   "execution_count": null,
   "metadata": {},
   "outputs": [],
   "source": [
    "@ = \"raj\""
   ]
  },
  {
   "cell_type": "code",
   "execution_count": null,
   "metadata": {},
   "outputs": [],
   "source": [
    "# Valid variable names\n",
    "name = \"Alice\"\n",
    "_age = 25\n",
    "my_var = 42\n",
    "user_name_123 = \"John\"\n",
    "\n",
    "# Invalid variable names\n",
    "# invalid name = \"Invalid\"  # Spaces are not allowed\n",
    "# this is a variable = 10   # Spaces are not allowed\n",
    "\n",
    "# Case-sensitive variable names\n",
    "age = 30\n",
    "Age = 25\n",
    "\n",
    "print(age)  # Output: 30\n",
    "print(Age)  # Output: 25\n",
    "\n",
    "# Invalid variable names (using reserved keywords)\n",
    "# if = 5       # 'if' is a reserved keyword\n",
    "# class = \"A\"  # 'class' is a reserved keyword\n",
    "\n",
    "# Good variable names\n",
    "student_name = \"Sarah\"\n",
    "number_of_courses = 4\n",
    "\n",
    "# Recommended variable naming convention\n",
    "my_variable = 100\n",
    "total_count = 5\n",
    "\n",
    "# Invalid variable name (starting with a digit)\n",
    "# 2numbers = 10  # Invalid, cannot start with a digit\n"
   ]
  },
  {
   "cell_type": "code",
   "execution_count": null,
   "metadata": {},
   "outputs": [],
   "source": [
    "# Camel Case\n",
    "myVariableName = 42\n",
    "calculateTotalAmount = lambda x, y: x + y\n",
    "getUserInfo = lambda user_id: ...\n",
    "\n",
    "# Pascal Case (Upper Camel Case)\n",
    "MyClassName = ...\n",
    "CalculateTotalAmount = lambda x, y: x + y\n",
    "GetUserInfo = lambda user_id: ...\n",
    "\n",
    "# Snake Case\n",
    "my_variable_name = 42\n",
    "calculate_total_amount = lambda x, y: x + y\n",
    "get_user_info = lambda user_id: ...\n",
    "\n",
    "# Kebab Case (Spinal Case)\n",
    "my-variable-name = 42\n",
    "calculate-total-amount = lambda x, y: x + y\n",
    "get-user-info = lambda user_id: ...\n",
    "\n",
    "# Hungarian Notation (less common in Python)\n",
    "str_name = \"Hello\"\n",
    "int_count = 5\n",
    "b_is_valid = True\n",
    "\n",
    "# Screaming Snake Case (for constants)\n",
    "MAX_VALUE = 100\n",
    "PI_CONSTANT = 3.14159\n",
    "CONFIG_FILE_NAME = \"config.txt\"\n"
   ]
  },
  {
   "cell_type": "code",
   "execution_count": null,
   "metadata": {},
   "outputs": [],
   "source": [
    "my_number_is = "
   ]
  },
  {
   "cell_type": "code",
   "execution_count": null,
   "metadata": {},
   "outputs": [],
   "source": []
  },
  {
   "cell_type": "code",
   "execution_count": null,
   "metadata": {},
   "outputs": [],
   "source": []
  },
  {
   "cell_type": "code",
   "execution_count": null,
   "metadata": {},
   "outputs": [],
   "source": [
    "1222"
   ]
  },
  {
   "cell_type": "code",
   "execution_count": null,
   "metadata": {
    "id": "op579nCUHQ24"
   },
   "outputs": [],
   "source": [
    "# Static Vs Dynamic Typing"
   ]
  },
  {
   "cell_type": "code",
   "execution_count": null,
   "metadata": {},
   "outputs": [],
   "source": [
    "# Static Typing\n",
    "int a = 25      #which doesntwork in the python "
   ]
  },
  {
   "cell_type": "code",
   "execution_count": 5,
   "metadata": {},
   "outputs": [],
   "source": [
    "# Dynamic Typing\n",
    "a = \"hello\""
   ]
  },
  {
   "cell_type": "code",
   "execution_count": 6,
   "metadata": {},
   "outputs": [
    {
     "data": {
      "text/plain": [
       "str"
      ]
     },
     "execution_count": 6,
     "metadata": {},
     "output_type": "execute_result"
    }
   ],
   "source": [
    "type(a)"
   ]
  },
  {
   "cell_type": "code",
   "execution_count": null,
   "metadata": {},
   "outputs": [],
   "source": []
  },
  {
   "cell_type": "code",
   "execution_count": null,
   "metadata": {},
   "outputs": [],
   "source": []
  },
  {
   "cell_type": "code",
   "execution_count": null,
   "metadata": {},
   "outputs": [],
   "source": [
    "a = 12.5"
   ]
  },
  {
   "cell_type": "code",
   "execution_count": null,
   "metadata": {},
   "outputs": [],
   "source": [
    "type(a)"
   ]
  },
  {
   "cell_type": "code",
   "execution_count": null,
   "metadata": {},
   "outputs": [],
   "source": [
    "hello = \"hello\""
   ]
  },
  {
   "cell_type": "code",
   "execution_count": null,
   "metadata": {},
   "outputs": [],
   "source": [
    "type(hello)"
   ]
  },
  {
   "cell_type": "code",
   "execution_count": null,
   "metadata": {
    "colab": {
     "base_uri": "https://localhost:8080/"
    },
    "id": "5UpzC2tlskka",
    "outputId": "6856e01c-23f7-4329-ba43-356935e2b75b"
   },
   "outputs": [],
   "source": [
    "# Dynamic Binding\n",
    "a = 8\n",
    "print(a)                #no fixed data type for any varaible keep on changing as the data changes \n",
    "a = 'raj'\n",
    "print(a)\n",
    "\n",
    "\n"
   ]
  },
  {
   "cell_type": "code",
   "execution_count": null,
   "metadata": {},
   "outputs": [],
   "source": [
    "# Static Binding\n",
    "int a = 5"
   ]
  },
  {
   "cell_type": "code",
   "execution_count": null,
   "metadata": {},
   "outputs": [],
   "source": [
    "#various methods of writing the variables"
   ]
  },
  {
   "cell_type": "code",
   "execution_count": null,
   "metadata": {
    "colab": {
     "base_uri": "https://localhost:8080/"
    },
    "id": "-PObryFetHAE",
    "outputId": "54bf13ae-7aa6-4f26-91e4-bc37e1d6cd69"
   },
   "outputs": [],
   "source": [
    "a = 5\n",
    "b = 2\n",
    "c = 3\n",
    "print(a,b,c)"
   ]
  },
  {
   "cell_type": "code",
   "execution_count": null,
   "metadata": {
    "colab": {
     "base_uri": "https://localhost:8080/"
    },
    "id": "AYkxWEMItN9K",
    "outputId": "3bd1b96d-9c44-40c5-81c1-cf34acff3b87"
   },
   "outputs": [],
   "source": [
    "a,b,c = 5,2,3\n",
    "print(a,b,c)"
   ]
  },
  {
   "cell_type": "code",
   "execution_count": null,
   "metadata": {
    "colab": {
     "base_uri": "https://localhost:8080/"
    },
    "id": "gcaARQh6tUtP",
    "outputId": "62f43b5b-aff2-4313-cb2c-c6285493b712"
   },
   "outputs": [],
   "source": [
    "a=b=c= 5\n",
    "print(a,b,c)"
   ]
  },
  {
   "cell_type": "code",
   "execution_count": null,
   "metadata": {},
   "outputs": [],
   "source": [
    "a"
   ]
  },
  {
   "cell_type": "markdown",
   "metadata": {
    "id": "yFj92Q4FubDk"
   },
   "source": [
    "# Comments"
   ]
  },
  {
   "cell_type": "code",
   "execution_count": 13,
   "metadata": {},
   "outputs": [
    {
     "data": {
      "text/plain": [
       "'hello'"
      ]
     },
     "execution_count": 13,
     "metadata": {},
     "output_type": "execute_result"
    }
   ],
   "source": [
    "#hello this is plain text   \n",
    "\"hello\""
   ]
  },
  {
   "cell_type": "code",
   "execution_count": null,
   "metadata": {},
   "outputs": [],
   "source": []
  },
  {
   "cell_type": "code",
   "execution_count": null,
   "metadata": {
    "colab": {
     "base_uri": "https://localhost:8080/"
    },
    "id": "4FJF20FiudCO",
    "outputId": "9b618c48-8ff7-4a89-9eb6-27a1fda91ee7"
   },
   "outputs": [],
   "source": [
    "# this is a comment\n",
    "# second line\n",
    "a = 5                  # this is a variable \n",
    "b = 72 # like this\n",
    "# second comment\n",
    "print(a+b)"
   ]
  },
  {
   "cell_type": "code",
   "execution_count": null,
   "metadata": {},
   "outputs": [],
   "source": [
    "\"\"\"  \n",
    "\"\"\""
   ]
  },
  {
   "cell_type": "markdown",
   "metadata": {
    "id": "jMHr-5raHRpW"
   },
   "source": [
    "#  Keywords & Identifiers"
   ]
  },
  {
   "cell_type": "markdown",
   "metadata": {
    "id": "frABVH7pHXF8"
   },
   "source": [
    "# Keywords\n",
    "Keywords in Python are reserved words with predefined meanings and functionalities within the programming language. They serve as fundamental building blocks and play specific roles in the syntax and structure of Python code. Keywords cannot be used as variable names or identifiers. They have distinct purposes, such as defining control flow (e.g., if, for, while), declaring data types (e.g., int, str, bool), managing scope (e.g., global, nonlocal), and more. Python keywords provide a standardized set of language constructs that facilitate efficient and consistent programming practices."
   ]
  },
  {
   "cell_type": "code",
   "execution_count": null,
   "metadata": {},
   "outputs": [],
   "source": [
    "False      await      else       import     pass\n",
    "None       break      except     in         raise\n",
    "True       class      finally    is         return\n",
    "and        continue   for        lambda     try\n",
    "as         def        from       nonlocal   while\n",
    "assert     del        global     not        with\n",
    "async      elif       if         or         yield\n"
   ]
  },
  {
   "cell_type": "code",
   "execution_count": 14,
   "metadata": {},
   "outputs": [
    {
     "ename": "SyntaxError",
     "evalue": "invalid syntax (2644998005.py, line 1)",
     "output_type": "error",
     "traceback": [
      "\u001b[1;36m  File \u001b[1;32m\"C:\\Users\\Ejaz\\AppData\\Local\\Temp\\ipykernel_24056\\2644998005.py\"\u001b[1;36m, line \u001b[1;32m1\u001b[0m\n\u001b[1;33m    if = 20\u001b[0m\n\u001b[1;37m       ^\u001b[0m\n\u001b[1;31mSyntaxError\u001b[0m\u001b[1;31m:\u001b[0m invalid syntax\n"
     ]
    }
   ],
   "source": []
  },
  {
   "cell_type": "code",
   "execution_count": null,
   "metadata": {},
   "outputs": [],
   "source": []
  },
  {
   "cell_type": "code",
   "execution_count": null,
   "metadata": {},
   "outputs": [],
   "source": [
    "#just to make the computers understand that you want to do this task"
   ]
  },
  {
   "cell_type": "markdown",
   "metadata": {},
   "source": [
    "# Identifiers"
   ]
  },
  {
   "cell_type": "markdown",
   "metadata": {},
   "source": [
    "Identifiers in Python are user-defined names used to identify variables, functions, classes, and other entities within a program. They act as labels or references to specific elements and should follow naming rules and conventions. Identifiers help make code more readable, maintainable, and self-explanatory. They play a crucial role in identifying and manipulating different parts of the code, enhancing program comprehension and facilitating effective communication."
   ]
  },
  {
   "cell_type": "code",
   "execution_count": null,
   "metadata": {
    "colab": {
     "base_uri": "https://localhost:8080/"
    },
    "id": "5EFqNEfpwwS5",
    "outputId": "18b3f0d1-3442-4d73-8456-b60f51b43b81"
   },
   "outputs": [],
   "source": [
    "# Identifiers\n",
    "# You can't start with a digit\n",
    "name1 = 'raj'\n",
    "print(name1)\n",
    "# You can use special chars \n",
    "_ = 'hel'\n",
    "print(_)\n",
    "# identiers can not be keyword"
   ]
  },
  {
   "cell_type": "code",
   "execution_count": null,
   "metadata": {},
   "outputs": [],
   "source": [
    "#static software -which donot take the input from users example just showcasing information \n",
    "#dynamic software - which takes input from the users example-youtube,irctc,ola"
   ]
  },
  {
   "cell_type": "code",
   "execution_count": null,
   "metadata": {},
   "outputs": [],
   "source": []
  },
  {
   "cell_type": "code",
   "execution_count": null,
   "metadata": {},
   "outputs": [],
   "source": [
    "add(10,20)"
   ]
  },
  {
   "cell_type": "code",
   "execution_count": 16,
   "metadata": {},
   "outputs": [
    {
     "name": "stdout",
     "output_type": "stream",
     "text": [
      "22\n"
     ]
    }
   ],
   "source": [
    "print()"
   ]
  },
  {
   "cell_type": "markdown",
   "metadata": {
    "id": "EsWPc3AvHYTJ"
   },
   "source": [
    "# User Input"
   ]
  },
  {
   "cell_type": "markdown",
   "metadata": {},
   "source": [
    "User input refers to the data or information provided by a user during program execution, typically entered via the keyboard or other input devices."
   ]
  },
  {
   "cell_type": "code",
   "execution_count": null,
   "metadata": {
    "colab": {
     "base_uri": "https://localhost:8080/",
     "height": 53
    },
    "id": "seRvw18RHhIo",
    "outputId": "1ccae179-67aa-40a0-8242-90d9d8772be8"
   },
   "outputs": [],
   "source": [
    "\n",
    "input()"
   ]
  },
  {
   "cell_type": "code",
   "execution_count": null,
   "metadata": {},
   "outputs": [],
   "source": [
    "input (\"please enter your name  \")"
   ]
  },
  {
   "cell_type": "code",
   "execution_count": null,
   "metadata": {},
   "outputs": [],
   "source": [
    "\"\"\"this is the first program \n",
    "how would you wrtite a program \n",
    "1)visualize the problem\n",
    "2)breakdown \n",
    "\"\"\""
   ]
  },
  {
   "cell_type": "code",
   "execution_count": null,
   "metadata": {},
   "outputs": [],
   "source": [
    "#I want to take two number from user \n",
    "# subtract first number from second "
   ]
  },
  {
   "cell_type": "code",
   "execution_count": 19,
   "metadata": {},
   "outputs": [
    {
     "name": "stdout",
     "output_type": "stream",
     "text": [
      "hello enter your name rahul\n"
     ]
    }
   ],
   "source": [
    "num1 = input(\"hello enter your name \")"
   ]
  },
  {
   "cell_type": "code",
   "execution_count": 20,
   "metadata": {},
   "outputs": [
    {
     "data": {
      "text/plain": [
       "'rahul'"
      ]
     },
     "execution_count": 20,
     "metadata": {},
     "output_type": "execute_result"
    }
   ],
   "source": [
    "num1"
   ]
  },
  {
   "cell_type": "code",
   "execution_count": 26,
   "metadata": {},
   "outputs": [
    {
     "name": "stdout",
     "output_type": "stream",
     "text": [
      "please enter your mobile number 20.555\n"
     ]
    }
   ],
   "source": [
    "var1  = input(\"please enter your mobile number \")"
   ]
  },
  {
   "cell_type": "code",
   "execution_count": 27,
   "metadata": {},
   "outputs": [
    {
     "data": {
      "text/plain": [
       "'20.555'"
      ]
     },
     "execution_count": 27,
     "metadata": {},
     "output_type": "execute_result"
    }
   ],
   "source": [
    "var1"
   ]
  },
  {
   "cell_type": "code",
   "execution_count": 28,
   "metadata": {},
   "outputs": [
    {
     "data": {
      "text/plain": [
       "str"
      ]
     },
     "execution_count": 28,
     "metadata": {},
     "output_type": "execute_result"
    }
   ],
   "source": [
    "type(var1)"
   ]
  },
  {
   "cell_type": "code",
   "execution_count": 32,
   "metadata": {},
   "outputs": [
    {
     "name": "stdout",
     "output_type": "stream",
     "text": [
      "enter mobile number 200222\n"
     ]
    }
   ],
   "source": [
    "mobile_number = float(input(\"enter mobile number \"))"
   ]
  },
  {
   "cell_type": "code",
   "execution_count": 33,
   "metadata": {},
   "outputs": [
    {
     "data": {
      "text/plain": [
       "200222.0"
      ]
     },
     "execution_count": 33,
     "metadata": {},
     "output_type": "execute_result"
    }
   ],
   "source": [
    "mobile_number"
   ]
  },
  {
   "cell_type": "code",
   "execution_count": 34,
   "metadata": {},
   "outputs": [
    {
     "data": {
      "text/plain": [
       "float"
      ]
     },
     "execution_count": 34,
     "metadata": {},
     "output_type": "execute_result"
    }
   ],
   "source": [
    "type(mobile_number)"
   ]
  },
  {
   "cell_type": "code",
   "execution_count": null,
   "metadata": {},
   "outputs": [],
   "source": []
  },
  {
   "cell_type": "code",
   "execution_count": null,
   "metadata": {},
   "outputs": [],
   "source": []
  },
  {
   "cell_type": "code",
   "execution_count": null,
   "metadata": {},
   "outputs": [],
   "source": []
  },
  {
   "cell_type": "code",
   "execution_count": null,
   "metadata": {},
   "outputs": [],
   "source": []
  },
  {
   "cell_type": "code",
   "execution_count": null,
   "metadata": {},
   "outputs": [],
   "source": [
    "type(num1)"
   ]
  },
  {
   "cell_type": "code",
   "execution_count": null,
   "metadata": {},
   "outputs": [],
   "source": [
    "num2  = int(input(\"enter second number\"))"
   ]
  },
  {
   "cell_type": "code",
   "execution_count": null,
   "metadata": {},
   "outputs": [],
   "source": [
    "type(num2)\n"
   ]
  },
  {
   "cell_type": "code",
   "execution_count": null,
   "metadata": {},
   "outputs": [],
   "source": [
    "type(num1)"
   ]
  },
  {
   "cell_type": "code",
   "execution_count": null,
   "metadata": {},
   "outputs": [],
   "source": [
    "num2 - num1"
   ]
  },
  {
   "cell_type": "code",
   "execution_count": null,
   "metadata": {},
   "outputs": [],
   "source": []
  },
  {
   "cell_type": "code",
   "execution_count": 35,
   "metadata": {},
   "outputs": [
    {
     "data": {
      "text/plain": [
       "1"
      ]
     },
     "execution_count": 35,
     "metadata": {},
     "output_type": "execute_result"
    }
   ],
   "source": []
  },
  {
   "cell_type": "code",
   "execution_count": null,
   "metadata": {},
   "outputs": [],
   "source": []
  },
  {
   "cell_type": "code",
   "execution_count": 36,
   "metadata": {},
   "outputs": [
    {
     "name": "stdout",
     "output_type": "stream",
     "text": [
      "enter first number10\n",
      "enter second number20\n"
     ]
    }
   ],
   "source": [
    "\n",
    "\n"
   ]
  },
  {
   "cell_type": "code",
   "execution_count": 37,
   "metadata": {},
   "outputs": [
    {
     "data": {
      "text/plain": [
       "'10'"
      ]
     },
     "execution_count": 37,
     "metadata": {},
     "output_type": "execute_result"
    }
   ],
   "source": [
    "ejaz"
   ]
  },
  {
   "cell_type": "code",
   "execution_count": 38,
   "metadata": {},
   "outputs": [
    {
     "data": {
      "text/plain": [
       "'20'"
      ]
     },
     "execution_count": 38,
     "metadata": {},
     "output_type": "execute_result"
    }
   ],
   "source": [
    "rahul"
   ]
  },
  {
   "cell_type": "code",
   "execution_count": null,
   "metadata": {},
   "outputs": [],
   "source": []
  },
  {
   "cell_type": "code",
   "execution_count": null,
   "metadata": {},
   "outputs": [],
   "source": []
  },
  {
   "cell_type": "code",
   "execution_count": 41,
   "metadata": {},
   "outputs": [
    {
     "name": "stdout",
     "output_type": "stream",
     "text": [
      "enter first number20\n",
      "enter second number10\n"
     ]
    }
   ],
   "source": [
    "ejaz = int(input(\"enter first number\"))\n",
    "rahul  = int(input(\"enter second number\"))\n",
    "\n",
    "final_result = ejaz - rahul"
   ]
  },
  {
   "cell_type": "code",
   "execution_count": 42,
   "metadata": {},
   "outputs": [
    {
     "data": {
      "text/plain": [
       "10"
      ]
     },
     "execution_count": 42,
     "metadata": {},
     "output_type": "execute_result"
    }
   ],
   "source": [
    "final_result"
   ]
  },
  {
   "cell_type": "code",
   "execution_count": null,
   "metadata": {},
   "outputs": [],
   "source": []
  },
  {
   "cell_type": "code",
   "execution_count": null,
   "metadata": {},
   "outputs": [],
   "source": [
    "# take input from users and store them in a variable\n",
    "num1 = int(input('enter first number'))\n",
    "num2 = int(input('enter second number'))\n",
    "\n",
    "\n",
    "#subtract two varaible\n",
    "result = num1 - num2\n",
    "# print the result\n",
    "print(result)\n",
    "type(result)"
   ]
  },
  {
   "cell_type": "code",
   "execution_count": null,
   "metadata": {},
   "outputs": [],
   "source": [
    "#lets break down above example and understand\n",
    "# num1,num2 stores whatever is given by the user\n",
    "# we can perform operations directly on the variables also\n"
   ]
  },
  {
   "cell_type": "code",
   "execution_count": null,
   "metadata": {},
   "outputs": [],
   "source": [
    "# why int before input\n",
    "num1 = (input('enter first number'))\n",
    "num2 = (input('enter second number'))\n",
    "\n",
    "\n",
    "#subtract two varaible\n",
    "result = num1 + num2\n",
    "# print the result\n",
    "print(result)\n",
    "type(result)"
   ]
  },
  {
   "cell_type": "code",
   "execution_count": null,
   "metadata": {},
   "outputs": [],
   "source": [
    "num3 = input(\"enter a number \")"
   ]
  },
  {
   "cell_type": "code",
   "execution_count": null,
   "metadata": {},
   "outputs": [],
   "source": [
    "type(num3)"
   ]
  },
  {
   "cell_type": "code",
   "execution_count": null,
   "metadata": {},
   "outputs": [],
   "source": [
    "num1 = (input('enter first number'))\n",
    "num2 = (input('enter second number'))\n",
    "\n",
    "\n",
    "#subtract two varaible\n",
    "result = int(num1) + int(num2)\n",
    "# print the result\n",
    "print(result)\n",
    "type(result)"
   ]
  },
  {
   "cell_type": "code",
   "execution_count": null,
   "metadata": {},
   "outputs": [],
   "source": [
    "type(num1)   #here the type conversion has not changed the original data but it creates a new value"
   ]
  },
  {
   "cell_type": "code",
   "execution_count": null,
   "metadata": {},
   "outputs": [],
   "source": [
    "#why always it is string only even if you give a integer \n",
    "# because the string universal data format we can write any data type in string like integer or float but \n",
    "# vice versa not possible  "
   ]
  },
  {
   "cell_type": "code",
   "execution_count": null,
   "metadata": {},
   "outputs": [],
   "source": []
  },
  {
   "cell_type": "code",
   "execution_count": null,
   "metadata": {},
   "outputs": [],
   "source": []
  },
  {
   "cell_type": "code",
   "execution_count": null,
   "metadata": {},
   "outputs": [],
   "source": []
  },
  {
   "cell_type": "code",
   "execution_count": null,
   "metadata": {},
   "outputs": [],
   "source": []
  },
  {
   "cell_type": "code",
   "execution_count": 43,
   "metadata": {},
   "outputs": [
    {
     "data": {
      "text/plain": [
       "7.2"
      ]
     },
     "execution_count": 43,
     "metadata": {},
     "output_type": "execute_result"
    }
   ],
   "source": [
    "5 +2.2"
   ]
  },
  {
   "cell_type": "markdown",
   "metadata": {
    "id": "TKQ78geyHhz7"
   },
   "source": [
    "# Type Conversion"
   ]
  },
  {
   "cell_type": "markdown",
   "metadata": {},
   "source": [
    "converting one data type to another "
   ]
  },
  {
   "cell_type": "code",
   "execution_count": null,
   "metadata": {
    "colab": {
     "base_uri": "https://localhost:8080/",
     "height": 240
    },
    "id": "BEuLxINMHnzk",
    "outputId": "9d599247-28de-4511-f3ff-c45aecbec048"
   },
   "outputs": [],
   "source": [
    "# Implicit       it is a type conversion  done by the python itself\n",
    "print(8+5.8)\n"
   ]
  },
  {
   "cell_type": "code",
   "execution_count": null,
   "metadata": {},
   "outputs": [],
   "source": [
    "print(type(8),type(5.8))"
   ]
  },
  {
   "cell_type": "code",
   "execution_count": null,
   "metadata": {},
   "outputs": [],
   "source": [
    "# implicit doesnt work here \n",
    "print(8 + '9')"
   ]
  },
  {
   "cell_type": "raw",
   "metadata": {},
   "source": [
    "TypeError is an error that occurs when an operation or function is applied to an object of an incompatible type. It indicates a mismatch between expected and actual data types. To resolve TypeError, you need to ensure that the appropriate data types are used or perform type conversions if necessary."
   ]
  },
  {
   "cell_type": "code",
   "execution_count": null,
   "metadata": {
    "colab": {
     "base_uri": "https://localhost:8080/"
    },
    "id": "-dyXjVl7115d",
    "outputId": "c8b98b45-1eb4-4691-c677-2ef9643ab605"
   },
   "outputs": [],
   "source": [
    "# Explicit     where the programmer explicitly write a code to convert"
   ]
  },
  {
   "cell_type": "code",
   "execution_count": null,
   "metadata": {},
   "outputs": [],
   "source": [
    "a = 10"
   ]
  },
  {
   "cell_type": "code",
   "execution_count": null,
   "metadata": {},
   "outputs": [],
   "source": [
    "type(a)"
   ]
  },
  {
   "cell_type": "code",
   "execution_count": null,
   "metadata": {},
   "outputs": [],
   "source": [
    "# int to str\n",
    "a_changed = str(a)"
   ]
  },
  {
   "cell_type": "code",
   "execution_count": null,
   "metadata": {},
   "outputs": [],
   "source": [
    "a_changed"
   ]
  },
  {
   "cell_type": "code",
   "execution_count": null,
   "metadata": {},
   "outputs": [],
   "source": [
    "type(a_changed)"
   ]
  },
  {
   "cell_type": "code",
   "execution_count": null,
   "metadata": {},
   "outputs": [],
   "source": [
    "type(a)"
   ]
  },
  {
   "cell_type": "code",
   "execution_count": 44,
   "metadata": {},
   "outputs": [
    {
     "data": {
      "text/plain": [
       "'20'"
      ]
     },
     "execution_count": 44,
     "metadata": {},
     "output_type": "execute_result"
    }
   ],
   "source": [
    "str(20)"
   ]
  },
  {
   "cell_type": "code",
   "execution_count": null,
   "metadata": {},
   "outputs": [],
   "source": [
    "b = 4+5j"
   ]
  },
  {
   "cell_type": "code",
   "execution_count": null,
   "metadata": {},
   "outputs": [],
   "source": []
  },
  {
   "cell_type": "code",
   "execution_count": null,
   "metadata": {},
   "outputs": [],
   "source": []
  },
  {
   "cell_type": "code",
   "execution_count": 49,
   "metadata": {},
   "outputs": [],
   "source": [
    "a = 20"
   ]
  },
  {
   "cell_type": "code",
   "execution_count": 50,
   "metadata": {},
   "outputs": [
    {
     "data": {
      "text/plain": [
       "int"
      ]
     },
     "execution_count": 50,
     "metadata": {},
     "output_type": "execute_result"
    }
   ],
   "source": [
    "type(a)"
   ]
  },
  {
   "cell_type": "code",
   "execution_count": 51,
   "metadata": {},
   "outputs": [
    {
     "data": {
      "text/plain": [
       "'20'"
      ]
     },
     "execution_count": 51,
     "metadata": {},
     "output_type": "execute_result"
    }
   ],
   "source": [
    "str(a)"
   ]
  },
  {
   "cell_type": "code",
   "execution_count": 52,
   "metadata": {},
   "outputs": [
    {
     "data": {
      "text/plain": [
       "int"
      ]
     },
     "execution_count": 52,
     "metadata": {},
     "output_type": "execute_result"
    }
   ],
   "source": [
    "type(a)"
   ]
  },
  {
   "cell_type": "code",
   "execution_count": null,
   "metadata": {},
   "outputs": [],
   "source": []
  },
  {
   "cell_type": "code",
   "execution_count": null,
   "metadata": {},
   "outputs": [],
   "source": []
  },
  {
   "cell_type": "code",
   "execution_count": null,
   "metadata": {},
   "outputs": [],
   "source": [
    "type(b)"
   ]
  },
  {
   "cell_type": "code",
   "execution_count": null,
   "metadata": {},
   "outputs": [],
   "source": [
    "int(b)   #only possible when it is logically possible"
   ]
  },
  {
   "cell_type": "markdown",
   "metadata": {},
   "source": [
    "### What is syntax"
   ]
  },
  {
   "cell_type": "markdown",
   "metadata": {},
   "source": [
    "Syntax refers to the rules that determine the proper structure and arrangement of statements and expressions in a programming language. It specifies how keywords, symbols, and punctuation should be used to form valid instructions. Syntax errors occur when code violates these rules. Understanding and following syntax is crucial for writing correct and functional code."
   ]
  },
  {
   "cell_type": "code",
   "execution_count": null,
   "metadata": {},
   "outputs": [],
   "source": [
    "if else "
   ]
  },
  {
   "cell_type": "code",
   "execution_count": 53,
   "metadata": {},
   "outputs": [
    {
     "ename": "SyntaxError",
     "evalue": "invalid syntax (791376372.py, line 1)",
     "output_type": "error",
     "traceback": [
      "\u001b[1;36m  File \u001b[1;32m\"C:\\Users\\Ejaz\\AppData\\Local\\Temp\\ipykernel_24056\\791376372.py\"\u001b[1;36m, line \u001b[1;32m1\u001b[0m\n\u001b[1;33m    = y\u001b[0m\n\u001b[1;37m    ^\u001b[0m\n\u001b[1;31mSyntaxError\u001b[0m\u001b[1;31m:\u001b[0m invalid syntax\n"
     ]
    }
   ],
   "source": [
    "y = 10  "
   ]
  },
  {
   "cell_type": "code",
   "execution_count": null,
   "metadata": {},
   "outputs": [],
   "source": []
  },
  {
   "cell_type": "code",
   "execution_count": null,
   "metadata": {},
   "outputs": [],
   "source": []
  },
  {
   "cell_type": "code",
   "execution_count": null,
   "metadata": {},
   "outputs": [],
   "source": [
    "a = 25 "
   ]
  },
  {
   "cell_type": "code",
   "execution_count": null,
   "metadata": {},
   "outputs": [],
   "source": [
    "b = 23.5"
   ]
  },
  {
   "cell_type": "code",
   "execution_count": null,
   "metadata": {},
   "outputs": [],
   "source": [
    "c = Hello my name is john"
   ]
  },
  {
   "cell_type": "code",
   "execution_count": null,
   "metadata": {},
   "outputs": [],
   "source": [
    "d = [1,2,3,\"hello\",20.5]"
   ]
  },
  {
   "cell_type": "markdown",
   "metadata": {
    "id": "7skMGSSFHoWw"
   },
   "source": [
    "# Literals"
   ]
  },
  {
   "cell_type": "markdown",
   "metadata": {},
   "source": [
    "A literal is a direct representation of a value within the source code of a programming language, such as a number or string."
   ]
  },
  {
   "cell_type": "code",
   "execution_count": null,
   "metadata": {
    "id": "4Q6wfNw1Huao"
   },
   "outputs": [],
   "source": [
    "#Float Literal\n",
    "float_11 = 10.6"
   ]
  },
  {
   "cell_type": "code",
   "execution_count": null,
   "metadata": {},
   "outputs": [],
   "source": [
    "#Complex Literal\n",
    "x1 = 3.22j"
   ]
  },
  {
   "cell_type": "code",
   "execution_count": null,
   "metadata": {
    "colab": {
     "base_uri": "https://localhost:8080/"
    },
    "id": "8UhbuqqD4X4x",
    "outputId": "2d04193f-9a26-48d8-bc1a-58590402b3bf"
   },
   "outputs": [],
   "source": [
    "# binary\n",
    "x2 = 3.1j\n"
   ]
  },
  {
   "cell_type": "code",
   "execution_count": null,
   "metadata": {
    "colab": {
     "base_uri": "https://localhost:8080/"
    },
    "id": "gPIDz0f6bwc1",
    "outputId": "a06272b3-e416-483c-fbca-4ab6c72ed19e"
   },
   "outputs": [],
   "source": [
    "string = 'This is Python'\n"
   ]
  }
 ],
 "metadata": {
  "colab": {
   "provenance": []
  },
  "kernelspec": {
   "display_name": "Python 3 (ipykernel)",
   "language": "python",
   "name": "python3"
  },
  "language_info": {
   "codemirror_mode": {
    "name": "ipython",
    "version": 3
   },
   "file_extension": ".py",
   "mimetype": "text/x-python",
   "name": "python",
   "nbconvert_exporter": "python",
   "pygments_lexer": "ipython3",
   "version": "3.9.13"
  }
 },
 "nbformat": 4,
 "nbformat_minor": 1
}
