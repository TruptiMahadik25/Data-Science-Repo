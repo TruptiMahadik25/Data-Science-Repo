{
 "cells": [
  {
   "cell_type": "code",
   "execution_count": 2,
   "id": "eec84bd2",
   "metadata": {},
   "outputs": [
    {
     "name": "stdout",
     "output_type": "stream",
     "text": [
      "Enter 1st string: trupti\n",
      "Enter 2nd string: mahadik\n",
      "Concatenated string: trupti mahadik\n"
     ]
    }
   ],
   "source": [
    "# Concatenate Strings\n",
    "\n",
    "str1 = input(\"Enter 1st string: \")\n",
    "\n",
    "str2 = input(\"Enter 2nd string: \")\n",
    "\n",
    "result = str1 + \" \" + str2\n",
    "\n",
    "print(\"Concatenated string:\", result)\n",
    "\n"
   ]
  },
  {
   "cell_type": "code",
   "execution_count": null,
   "id": "befd9100",
   "metadata": {},
   "outputs": [],
   "source": []
  },
  {
   "cell_type": "code",
   "execution_count": 3,
   "id": "48261cd1",
   "metadata": {},
   "outputs": [
    {
     "name": "stdout",
     "output_type": "stream",
     "text": [
      "Enter string: truptimahadik\n",
      "Total characters: 13\n"
     ]
    }
   ],
   "source": [
    " # Count Characters\n",
    " \n",
    "Str = input(\"Enter string: \")\n",
    "\n",
    "length = len(Str)\n",
    "\n",
    "print(\"Total characters:\", length)\n",
    "\n",
    "\n"
   ]
  },
  {
   "cell_type": "code",
   "execution_count": 2,
   "id": "0be66db7",
   "metadata": {},
   "outputs": [
    {
     "name": "stdout",
     "output_type": "stream",
     "text": [
      "Enter sentence: i am happy\n",
      "Enter word to replace: happy\n",
      "Enter new word: sad\n",
      "Updated sentence: i am sad\n"
     ]
    }
   ],
   "source": [
    "# Replace Substring\n",
    "\n",
    "\n",
    "main_sentence = input(\"Enter sentence: \")\n",
    "\n",
    "word1 = input(\"Enter word to replace: \")\n",
    "\n",
    "word2 = input(\"Enter new word: \")\n",
    "\n",
    "new_sentence = main_sentence.replace(word1, word2)\n",
    "\n",
    "print(\"Updated sentence:\", new_sentence)\n",
    "\n"
   ]
  },
  {
   "cell_type": "code",
   "execution_count": 10,
   "id": "8c58b960",
   "metadata": {},
   "outputs": [
    {
     "name": "stdout",
     "output_type": "stream",
     "text": [
      "Enter sentence: eduonix classes data science\n",
      "Reversed sentence: science data classes eduonix\n"
     ]
    }
   ],
   "source": [
    "# Word Reversal\n",
    "\n",
    "\n",
    "sentence = input(\"Enter sentence: \")\n",
    "\n",
    "abc = sentence.split()\n",
    "\n",
    "reversed_abc = abc[::-1]\n",
    "\n",
    "reversed_sentence = \" \".join(reversed_abc)\n",
    "\n",
    "print(\"Reversed sentence:\", reversed_sentence)\n"
   ]
  },
  {
   "cell_type": "code",
   "execution_count": null,
   "id": "40494c65",
   "metadata": {},
   "outputs": [],
   "source": []
  },
  {
   "cell_type": "code",
   "execution_count": 11,
   "id": "2181fb82",
   "metadata": {},
   "outputs": [
    {
     "name": "stdout",
     "output_type": "stream",
     "text": [
      "Enter string: Trupti Mahadik\n",
      "Uppercase: TRUPTI MAHADIK\n",
      "Lowercase: trupti mahadik\n"
     ]
    }
   ],
   "source": [
    "# Uppercase and Lowercase\n",
    "\n",
    "\n",
    "xyz = input(\"Enter string: \")\n",
    "\n",
    "uppercase = xyz.upper()\n",
    "\n",
    "lowercase = xyz.lower()\n",
    "\n",
    "print(\"Uppercase:\", uppercase)\n",
    "\n",
    "print(\"Lowercase:\", lowercase)\n"
   ]
  },
  {
   "cell_type": "code",
   "execution_count": null,
   "id": "7f1c21c2",
   "metadata": {},
   "outputs": [],
   "source": []
  },
  {
   "cell_type": "code",
   "execution_count": 1,
   "id": "b42f7f9a",
   "metadata": {},
   "outputs": [
    {
     "name": "stdout",
     "output_type": "stream",
     "text": [
      "Enter string: i am an engineer\n",
      "Middle character: e\n"
     ]
    }
   ],
   "source": [
    "# Middle Character Q: \n",
    "\n",
    "abc = input(\"Enter string: \")\n",
    "\n",
    "midd_index = len(abc) // 2\n",
    "\n",
    "midd_char = abc[midd_index]\n",
    "\n",
    "print(\"Middle character:\", midd_char)\n",
    "\n"
   ]
  },
  {
   "cell_type": "code",
   "execution_count": null,
   "id": "6b99c139",
   "metadata": {},
   "outputs": [],
   "source": []
  },
  {
   "cell_type": "code",
   "execution_count": 4,
   "id": "8cc7da26",
   "metadata": {},
   "outputs": [
    {
     "name": "stdout",
     "output_type": "stream",
     "text": [
      "Enter string: class is a blue print\n",
      "Capitalized substring: CLAss is a blue print\n"
     ]
    }
   ],
   "source": [
    "# Substring Capitalization \n",
    "\n",
    "xyz = input(\"Enter string: \")\n",
    "\n",
    "cap_substring = xyz[:3].upper() + xyz[3:]\n",
    "\n",
    "print(\"Capitalized substring:\", cap_substring)\n"
   ]
  },
  {
   "cell_type": "code",
   "execution_count": null,
   "id": "be59de50",
   "metadata": {},
   "outputs": [],
   "source": []
  },
  {
   "cell_type": "code",
   "execution_count": 10,
   "id": "eb1d1260",
   "metadata": {},
   "outputs": [
    {
     "name": "stdout",
     "output_type": "stream",
     "text": [
      "Enter string: nb g cx\n",
      "Repeated string : nb g cxnb g cxnb g cx\n"
     ]
    }
   ],
   "source": [
    "\n",
    "# String Repetition \n",
    "\n",
    "pqr = input(\"Enter string: \")\n",
    "\n",
    "repe_pqr = pqr  * 3\n",
    "\n",
    "print(\"Repeated string :\" , repe_pqr)\n"
   ]
  },
  {
   "cell_type": "code",
   "execution_count": null,
   "id": "21ea3484",
   "metadata": {},
   "outputs": [],
   "source": []
  },
  {
   "cell_type": "code",
   "execution_count": null,
   "id": "0e6de367",
   "metadata": {},
   "outputs": [],
   "source": []
  },
  {
   "cell_type": "code",
   "execution_count": null,
   "id": "b3ae7a50",
   "metadata": {},
   "outputs": [],
   "source": []
  }
 ],
 "metadata": {
  "kernelspec": {
   "display_name": "Python 3 (ipykernel)",
   "language": "python",
   "name": "python3"
  },
  "language_info": {
   "codemirror_mode": {
    "name": "ipython",
    "version": 3
   },
   "file_extension": ".py",
   "mimetype": "text/x-python",
   "name": "python",
   "nbconvert_exporter": "python",
   "pygments_lexer": "ipython3",
   "version": "3.11.5"
  }
 },
 "nbformat": 4,
 "nbformat_minor": 5
}
