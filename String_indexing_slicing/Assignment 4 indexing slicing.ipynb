{
 "cells": [
  {
   "cell_type": "code",
   "execution_count": 1,
   "id": "1d993434",
   "metadata": {},
   "outputs": [
    {
     "name": "stdout",
     "output_type": "stream",
     "text": [
      "Element at Index 2: 30\n"
     ]
    }
   ],
   "source": [
    "# Indexing Lists\n",
    "\n",
    "\n",
    "list = [10, 20, 30, 40, 50]\n",
    "\n",
    "index_2_element = list[2]\n",
    "\n",
    "print(\"Element at Index 2:\", index_2_element)\n",
    "\n",
    "\n"
   ]
  },
  {
   "cell_type": "code",
   "execution_count": null,
   "id": "75857e29",
   "metadata": {},
   "outputs": [],
   "source": []
  },
  {
   "cell_type": "code",
   "execution_count": 10,
   "id": "fe1bf5e3",
   "metadata": {},
   "outputs": [
    {
     "name": "stdout",
     "output_type": "stream",
     "text": [
      "Sliced Elements: [10, 15, 20]\n"
     ]
    }
   ],
   "source": [
    "# Slicing Lists\n",
    "\n",
    "\n",
    "list1 = [5, 10, 15, 20, 25]\n",
    "\n",
    "s_elements = list1[1:4]\n",
    "\n",
    "print(\"Sliced Elements:\", s_elements)\n"
   ]
  },
  {
   "cell_type": "code",
   "execution_count": null,
   "id": "844ed4dd",
   "metadata": {},
   "outputs": [],
   "source": []
  },
  {
   "cell_type": "code",
   "execution_count": 12,
   "id": "38448122",
   "metadata": {},
   "outputs": [
    {
     "name": "stdout",
     "output_type": "stream",
     "text": [
      "Character at Index 3: h\n"
     ]
    }
   ],
   "source": [
    "# Indexing Strings\n",
    "\n",
    "\n",
    "string = \"Python\"\n",
    "\n",
    "index_3_char = string[3]\n",
    "\n",
    "print(\"Character at Index 3:\", index_3_char)\n"
   ]
  },
  {
   "cell_type": "code",
   "execution_count": null,
   "id": "8ee6236f",
   "metadata": {},
   "outputs": [],
   "source": []
  },
  {
   "cell_type": "code",
   "execution_count": 14,
   "id": "93b5ca38",
   "metadata": {},
   "outputs": [
    {
     "name": "stdout",
     "output_type": "stream",
     "text": [
      "Last Element: 5\n"
     ]
    }
   ],
   "source": [
    "# Using Negative Indexing\n",
    "\n",
    "\n",
    "list1 = [1, 2, 3, 4, 5]\n",
    "\n",
    "element = list1 [-1]\n",
    "\n",
    "print(\"Last Element:\", element)\n",
    "\n"
   ]
  },
  {
   "cell_type": "code",
   "execution_count": null,
   "id": "442d1160",
   "metadata": {},
   "outputs": [],
   "source": []
  },
  {
   "cell_type": "code",
   "execution_count": 16,
   "id": "174d48ef",
   "metadata": {},
   "outputs": [
    {
     "name": "stdout",
     "output_type": "stream",
     "text": [
      "Element at (1, 2): 60\n"
     ]
    }
   ],
   "source": [
    "# Nested List Indexing\n",
    "\n",
    "\n",
    "nested_list = [[10, 20, 30], [40, 50, 60], [70, 80, 90]]\n",
    "\n",
    "element = nested_list[1][2]\n",
    "\n",
    "print(\"Element at (1, 2):\", element)\n",
    "\n"
   ]
  },
  {
   "cell_type": "code",
   "execution_count": null,
   "id": "1eb40002",
   "metadata": {},
   "outputs": [],
   "source": []
  },
  {
   "cell_type": "code",
   "execution_count": 1,
   "id": "23f33956",
   "metadata": {},
   "outputs": [
    {
     "name": "stdout",
     "output_type": "stream",
     "text": [
      "Sliced Elements: [30, 40, 50, 60]\n"
     ]
    }
   ],
   "source": [
    "# Positive Slicing of Lists\n",
    "\n",
    "\n",
    "list = [10, 20, 30, 40, 50, 60, 70, 80]\n",
    "\n",
    "sliced_elist = list[2:6]\n",
    "\n",
    "print(\"Sliced Elements:\", sliced_elist)\n",
    "\n"
   ]
  },
  {
   "cell_type": "code",
   "execution_count": null,
   "id": "e335ed8f",
   "metadata": {},
   "outputs": [],
   "source": []
  },
  {
   "cell_type": "code",
   "execution_count": 2,
   "id": "4375c00b",
   "metadata": {},
   "outputs": [
    {
     "name": "stdout",
     "output_type": "stream",
     "text": [
      "Substring: grammi\n"
     ]
    }
   ],
   "source": [
    "# Positive Slicing of Strings\n",
    "\n",
    "\n",
    "string = \"Programming\"\n",
    "\n",
    "substring = string[3:9]\n",
    "\n",
    "print(\"Substring:\", substring)\n",
    "\n",
    "\n",
    "\n"
   ]
  },
  {
   "cell_type": "code",
   "execution_count": null,
   "id": "b82183e6",
   "metadata": {},
   "outputs": [],
   "source": []
  },
  {
   "cell_type": "code",
   "execution_count": 6,
   "id": "4552696e",
   "metadata": {},
   "outputs": [
    {
     "name": "stdout",
     "output_type": "stream",
     "text": [
      "Sliced Elements: (10, 15, 20, 25)\n"
     ]
    }
   ],
   "source": [
    "# Positive Slicing of Tuples\n",
    "\n",
    "\n",
    "tuples = (5, 10, 15, 20, 25, 30)\n",
    "\n",
    "sliced_elem = tuples[1:5]\n",
    "\n",
    "print(\"Sliced Elements:\", sliced_elem)\n"
   ]
  },
  {
   "cell_type": "code",
   "execution_count": null,
   "id": "c66f76cc",
   "metadata": {},
   "outputs": [],
   "source": []
  },
  {
   "cell_type": "code",
   "execution_count": 7,
   "id": "17bffe58",
   "metadata": {},
   "outputs": [
    {
     "name": "stdout",
     "output_type": "stream",
     "text": [
      "Sliced Elements: [5, 6]\n"
     ]
    }
   ],
   "source": [
    "# Positive Slicing of Nested Lists\n",
    "\n",
    "\n",
    "nested_list = [[1, 2, 3], [4, 5, 6], [7, 8, 9]]\n",
    "\n",
    "sliced_elem = nested_list[1][1:3]\n",
    "\n",
    "print(\"Sliced Elements:\", sliced_elem)\n"
   ]
  },
  {
   "cell_type": "code",
   "execution_count": null,
   "id": "e11b2466",
   "metadata": {},
   "outputs": [],
   "source": []
  },
  {
   "cell_type": "code",
   "execution_count": 40,
   "id": "37375779",
   "metadata": {},
   "outputs": [
    {
     "ename": "TypeError",
     "evalue": "'list' object is not callable",
     "output_type": "error",
     "traceback": [
      "\u001b[1;31m---------------------------------------------------------------------------\u001b[0m",
      "\u001b[1;31mTypeError\u001b[0m                                 Traceback (most recent call last)",
      "Cell \u001b[1;32mIn[40], line 5\u001b[0m\n\u001b[0;32m      1\u001b[0m \u001b[38;5;66;03m# Positive Slicing of Sets (Convert to List First)\u001b[39;00m\n\u001b[0;32m      3\u001b[0m given_set \u001b[38;5;241m=\u001b[39m {\u001b[38;5;241m10\u001b[39m, \u001b[38;5;241m20\u001b[39m, \u001b[38;5;241m30\u001b[39m, \u001b[38;5;241m40\u001b[39m, \u001b[38;5;241m50\u001b[39m, \u001b[38;5;241m60\u001b[39m}\n\u001b[1;32m----> 5\u001b[0m my_list \u001b[38;5;241m=\u001b[39m \u001b[38;5;28mlist\u001b[39m(given_set)\n\u001b[0;32m      7\u001b[0m abc \u001b[38;5;241m=\u001b[39m given_set[\u001b[38;5;241m1\u001b[39m:\u001b[38;5;241m4\u001b[39m]\n\u001b[0;32m      9\u001b[0m \u001b[38;5;28mprint\u001b[39m(\u001b[38;5;124m\"\u001b[39m\u001b[38;5;124mSliced Elements:\u001b[39m\u001b[38;5;124m\"\u001b[39m, abc)\n",
      "\u001b[1;31mTypeError\u001b[0m: 'list' object is not callable"
     ]
    }
   ],
   "source": [
    "# Positive Slicing of Sets (Convert to List First)\n",
    "\n",
    "given_set = {10, 20, 30, 40, 50, 60}\n",
    "\n",
    "my_list = list(given_set)\n",
    "\n",
    "abc = given_set[1:4]\n",
    "\n",
    "print(\"Sliced Elements:\", abc)\n"
   ]
  },
  {
   "cell_type": "code",
   "execution_count": null,
   "id": "0771e61a",
   "metadata": {},
   "outputs": [],
   "source": [
    "\n"
   ]
  },
  {
   "cell_type": "code",
   "execution_count": null,
   "id": "f49c4e26",
   "metadata": {},
   "outputs": [],
   "source": []
  },
  {
   "cell_type": "code",
   "execution_count": null,
   "id": "e1c68656",
   "metadata": {},
   "outputs": [],
   "source": []
  },
  {
   "cell_type": "code",
   "execution_count": null,
   "id": "f391b06b",
   "metadata": {},
   "outputs": [],
   "source": []
  },
  {
   "cell_type": "code",
   "execution_count": 30,
   "id": "b33e641c",
   "metadata": {},
   "outputs": [
    {
     "name": "stdout",
     "output_type": "stream",
     "text": [
      "Sliced Elements: [70, 60, 50]\n"
     ]
    }
   ],
   "source": [
    "# Negative Slicing of Lists\n",
    "\n",
    "\n",
    "new_list = [10, 20, 30, 40, 50, 60, 70, 80]\n",
    "\n",
    "sliced_elem = new_list[-2:-5:-1]\n",
    "\n",
    "print(\"Sliced Elements:\", sliced_elem)\n"
   ]
  },
  {
   "cell_type": "code",
   "execution_count": null,
   "id": "dfc2fab8",
   "metadata": {},
   "outputs": [],
   "source": [
    "\n"
   ]
  },
  {
   "cell_type": "code",
   "execution_count": 31,
   "id": "f38d0d81",
   "metadata": {},
   "outputs": [
    {
     "name": "stdout",
     "output_type": "stream",
     "text": [
      "Substring: nimm\n"
     ]
    }
   ],
   "source": [
    "# Negative Slicing of Strings\n",
    "\n",
    "\n",
    "new_string = \"PythonProgramming\"\n",
    "\n",
    "string1 = new_string[-2:-6:-1]\n",
    "\n",
    "print(\"Substring:\", string1)\n"
   ]
  },
  {
   "cell_type": "code",
   "execution_count": null,
   "id": "bd57623f",
   "metadata": {},
   "outputs": [],
   "source": []
  },
  {
   "cell_type": "code",
   "execution_count": 34,
   "id": "d5a5dd3d",
   "metadata": {},
   "outputs": [
    {
     "name": "stdout",
     "output_type": "stream",
     "text": [
      "Sliced Elements: (30, 25, 20)\n"
     ]
    }
   ],
   "source": [
    "# Negative Slicing of Tuples\n",
    "\n",
    "\n",
    "new_tuple = (5, 10, 15, 20, 25, 30)\n",
    "\n",
    "sliced_elements = new_tuple[-1:-4:-1]\n",
    "\n",
    "print(\"Sliced Elements:\", sliced_elements)\n"
   ]
  },
  {
   "cell_type": "code",
   "execution_count": null,
   "id": "9bd612f3",
   "metadata": {},
   "outputs": [],
   "source": []
  },
  {
   "cell_type": "code",
   "execution_count": 35,
   "id": "da3fa1c4",
   "metadata": {},
   "outputs": [
    {
     "name": "stdout",
     "output_type": "stream",
     "text": [
      "Sliced Elements: [9, 8]\n"
     ]
    }
   ],
   "source": [
    "# Negative Slicing of Nested Lists\n",
    "\n",
    "\n",
    "nested_list = [[1, 2, 3], [4, 5, 6], [7, 8, 9]]\n",
    "\n",
    "sliced_elem = nested_list[-1][-1:-3:-1]\n",
    "\n",
    "print(\"Sliced Elements:\", sliced_elem)\n"
   ]
  },
  {
   "cell_type": "code",
   "execution_count": null,
   "id": "95daffa4",
   "metadata": {},
   "outputs": [],
   "source": []
  },
  {
   "cell_type": "code",
   "execution_count": 39,
   "id": "04378ded",
   "metadata": {},
   "outputs": [
    {
     "ename": "TypeError",
     "evalue": "'list' object is not callable",
     "output_type": "error",
     "traceback": [
      "\u001b[1;31m---------------------------------------------------------------------------\u001b[0m",
      "\u001b[1;31mTypeError\u001b[0m                                 Traceback (most recent call last)",
      "Cell \u001b[1;32mIn[39], line 5\u001b[0m\n\u001b[0;32m      1\u001b[0m \u001b[38;5;66;03m# Negative Slicing of Sets (Convert to List First) then use negative slicing\u001b[39;00m\n\u001b[0;32m      3\u001b[0m my_set \u001b[38;5;241m=\u001b[39m {\u001b[38;5;241m10\u001b[39m, \u001b[38;5;241m20\u001b[39m, \u001b[38;5;241m30\u001b[39m, \u001b[38;5;241m40\u001b[39m, \u001b[38;5;241m50\u001b[39m, \u001b[38;5;241m60\u001b[39m}\n\u001b[1;32m----> 5\u001b[0m my_list \u001b[38;5;241m=\u001b[39m \u001b[38;5;28mlist\u001b[39m(my_set)\n\u001b[0;32m      7\u001b[0m sliced_elements \u001b[38;5;241m=\u001b[39m my_list[\u001b[38;5;241m-\u001b[39m\u001b[38;5;241m1\u001b[39m:\u001b[38;5;241m-\u001b[39m\u001b[38;5;241m4\u001b[39m:\u001b[38;5;241m-\u001b[39m\u001b[38;5;241m1\u001b[39m]\n\u001b[0;32m      9\u001b[0m \u001b[38;5;28mprint\u001b[39m(\u001b[38;5;124m\"\u001b[39m\u001b[38;5;124mSliced Elements:\u001b[39m\u001b[38;5;124m\"\u001b[39m, sliced_elements)\n",
      "\u001b[1;31mTypeError\u001b[0m: 'list' object is not callable"
     ]
    }
   ],
   "source": [
    "# Negative Slicing of Sets (Convert to List First) then use negative slicing\n",
    "\n",
    "my_set = {10, 20, 30, 40, 50, 60}\n",
    "\n",
    "my_list = list(my_set)\n",
    "\n",
    "sliced_elements = my_list[-1:-4:-1]\n",
    "\n",
    "print(\"Sliced Elements:\", sliced_elements)\n"
   ]
  },
  {
   "cell_type": "code",
   "execution_count": null,
   "id": "4098749b",
   "metadata": {},
   "outputs": [],
   "source": []
  }
 ],
 "metadata": {
  "kernelspec": {
   "display_name": "Python 3 (ipykernel)",
   "language": "python",
   "name": "python3"
  },
  "language_info": {
   "codemirror_mode": {
    "name": "ipython",
    "version": 3
   },
   "file_extension": ".py",
   "mimetype": "text/x-python",
   "name": "python",
   "nbconvert_exporter": "python",
   "pygments_lexer": "ipython3",
   "version": "3.11.5"
  }
 },
 "nbformat": 4,
 "nbformat_minor": 5
}
